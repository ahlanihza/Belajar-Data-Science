{
 "cells": [
  {
   "cell_type": "markdown",
   "id": "f518a56b-8349-4071-aa74-4f78e195d5d7",
   "metadata": {},
   "source": [
    "DATA STRUCTURE"
   ]
  },
  {
   "cell_type": "markdown",
   "id": "4e8424ed-b95c-402b-b4d3-e00a82a2421a",
   "metadata": {},
   "source": [
    "LIST, TUPLE, SET, DICTIONARY"
   ]
  },
  {
   "cell_type": "code",
   "execution_count": 1,
   "id": "244d7297-dd1f-4acb-a517-1437b60c5dde",
   "metadata": {},
   "outputs": [],
   "source": [
    "#1\n",
    "L = [ 1, 3, 4.9, \"name\", 3]\n",
    "T = ( 1, 3, 4.9, \"name\", 3)\n",
    "S = { 1, 3, 4.9, \"name\", 3}\n",
    "D = { 23 : \"TWOTHREE\", 'B' : 43, 'C' : 'CCO'}"
   ]
  },
  {
   "cell_type": "code",
   "execution_count": 2,
   "id": "868ceb3b-4d51-475e-9cdf-4945c32edf8f",
   "metadata": {},
   "outputs": [
    {
     "name": "stdout",
     "output_type": "stream",
     "text": [
      "The type of L is  <class 'list'>\n",
      "The type of T is  <class 'tuple'>\n",
      "The type of L is  <class 'set'>\n",
      "The type of L is  <class 'dict'>\n"
     ]
    }
   ],
   "source": [
    "print (\"The type of L is \", type (L))\n",
    "print (\"The type of T is \", type (T))\n",
    "print (\"The type of L is \", type (S))\n",
    "print (\"The type of L is \", type (D))"
   ]
  },
  {
   "cell_type": "code",
   "execution_count": 3,
   "id": "791c453f-7da3-4e2d-94da-a1c072575901",
   "metadata": {},
   "outputs": [
    {
     "name": "stdout",
     "output_type": "stream",
     "text": [
      "3\n",
      "3\n",
      "True\n",
      "TWOTHREE\n"
     ]
    }
   ],
   "source": [
    "#2\n",
    "print(L[1])\n",
    "print(T[1])\n",
    "print (3 in S)\n",
    "print (D[23])\n"
   ]
  },
  {
   "cell_type": "code",
   "execution_count": 4,
   "id": "2310213d-5ea8-4077-be8f-a3ee5ca297a8",
   "metadata": {},
   "outputs": [
    {
     "data": {
      "text/plain": [
       "[1, 3, 4.9, 'name', 3]"
      ]
     },
     "execution_count": 4,
     "metadata": {},
     "output_type": "execute_result"
    }
   ],
   "source": [
    "#3 Update\n",
    "#List\n",
    "L"
   ]
  },
  {
   "cell_type": "code",
   "execution_count": 5,
   "id": "27f28b55-981c-426a-99ee-3d8296055fcc",
   "metadata": {},
   "outputs": [
    {
     "data": {
      "text/plain": [
       "[3, 4.9]"
      ]
     },
     "execution_count": 5,
     "metadata": {},
     "output_type": "execute_result"
    }
   ],
   "source": [
    "L[1:3]"
   ]
  },
  {
   "cell_type": "code",
   "execution_count": 6,
   "id": "9ddaa3a9-db96-487b-8d15-f7e46951de40",
   "metadata": {},
   "outputs": [
    {
     "data": {
      "text/plain": [
       "[3, 'name', 4.9, 3, 1]"
      ]
     },
     "execution_count": 6,
     "metadata": {},
     "output_type": "execute_result"
    }
   ],
   "source": [
    "L[::-1]"
   ]
  },
  {
   "cell_type": "code",
   "execution_count": 7,
   "id": "6af2d404-127e-4f24-ab8f-1174a2fcd80f",
   "metadata": {},
   "outputs": [],
   "source": [
    "L = L + [\"how\", \"are\", 6, \"you\"]"
   ]
  },
  {
   "cell_type": "code",
   "execution_count": 8,
   "id": "e24a98e7-f51b-4a4c-a1b8-aaa2d5c75513",
   "metadata": {},
   "outputs": [],
   "source": [
    "L.append (6.8)"
   ]
  },
  {
   "cell_type": "code",
   "execution_count": 9,
   "id": "0058215d-4035-4652-9db3-f0057b21e390",
   "metadata": {},
   "outputs": [
    {
     "data": {
      "text/plain": [
       "(1, 3, 4.9, 'name', 3)"
      ]
     },
     "execution_count": 9,
     "metadata": {},
     "output_type": "execute_result"
    }
   ],
   "source": [
    "#Truple\n",
    "T"
   ]
  },
  {
   "cell_type": "code",
   "execution_count": 10,
   "id": "972f79f4-44a6-4860-98ea-9df17a421d33",
   "metadata": {},
   "outputs": [
    {
     "data": {
      "text/plain": [
       "(1, 3, 4.9)"
      ]
     },
     "execution_count": 10,
     "metadata": {},
     "output_type": "execute_result"
    }
   ],
   "source": [
    "T[:3]"
   ]
  },
  {
   "cell_type": "code",
   "execution_count": 11,
   "id": "41919697-54b4-4167-a222-75bae744c079",
   "metadata": {},
   "outputs": [],
   "source": [
    "T2 = ('a', 'b', 45)\n",
    "T3 = T + T2"
   ]
  },
  {
   "cell_type": "code",
   "execution_count": 12,
   "id": "d854a394-5aee-4add-9982-3abe0857d57d",
   "metadata": {},
   "outputs": [
    {
     "data": {
      "text/plain": [
       "(1, 3, 4.9, 'name', 3, 'a', 'b', 45)"
      ]
     },
     "execution_count": 12,
     "metadata": {},
     "output_type": "execute_result"
    }
   ],
   "source": [
    "T3"
   ]
  },
  {
   "cell_type": "code",
   "execution_count": 13,
   "id": "8a4fd9e2-55b7-4ff8-bf37-993494b403c7",
   "metadata": {},
   "outputs": [
    {
     "data": {
      "text/plain": [
       "{1, 3, 4.9, 'name'}"
      ]
     },
     "execution_count": 13,
     "metadata": {},
     "output_type": "execute_result"
    }
   ],
   "source": [
    "#SET\n",
    "S"
   ]
  },
  {
   "cell_type": "code",
   "execution_count": 14,
   "id": "b00ff96d-41ef-412e-a294-aabf32b1eed9",
   "metadata": {},
   "outputs": [],
   "source": [
    "S.add(56)"
   ]
  },
  {
   "cell_type": "code",
   "execution_count": 15,
   "id": "4b64a981-ef7f-44cc-ac97-329e73acde26",
   "metadata": {},
   "outputs": [
    {
     "data": {
      "text/plain": [
       "{1, 3, 4.9, 56, 'name'}"
      ]
     },
     "execution_count": 15,
     "metadata": {},
     "output_type": "execute_result"
    }
   ],
   "source": [
    "S"
   ]
  },
  {
   "cell_type": "code",
   "execution_count": 16,
   "id": "2b7ffad3-2650-4739-866d-862de1dc0419",
   "metadata": {},
   "outputs": [],
   "source": [
    "S.update({23, 'game',1})"
   ]
  },
  {
   "cell_type": "code",
   "execution_count": 17,
   "id": "fbcc5cb1-a137-416a-b68f-140c08c8667b",
   "metadata": {},
   "outputs": [
    {
     "data": {
      "text/plain": [
       "{1, 23, 3, 4.9, 56, 'game', 'name'}"
      ]
     },
     "execution_count": 17,
     "metadata": {},
     "output_type": "execute_result"
    }
   ],
   "source": [
    "S"
   ]
  },
  {
   "cell_type": "code",
   "execution_count": 18,
   "id": "46e2e0d1-b224-435a-b132-d4c678e73f84",
   "metadata": {},
   "outputs": [
    {
     "data": {
      "text/plain": [
       "{23: 'TWOTHREE', 'B': 43, 'C': 'CCO'}"
      ]
     },
     "execution_count": 18,
     "metadata": {},
     "output_type": "execute_result"
    }
   ],
   "source": [
    "#Dictionary \n",
    "D"
   ]
  },
  {
   "cell_type": "code",
   "execution_count": 19,
   "id": "adbc85a7-fa3e-440f-a4b2-96760d825456",
   "metadata": {},
   "outputs": [],
   "source": [
    "D['newKey'] = \"NewValue\""
   ]
  },
  {
   "cell_type": "code",
   "execution_count": 20,
   "id": "5ddcb9b1-5dce-4368-b0a8-79b1d4b622d2",
   "metadata": {},
   "outputs": [
    {
     "data": {
      "text/plain": [
       "{23: 'TWOTHREE', 'B': 43, 'C': 'CCO', 'newKey': 'NewValue'}"
      ]
     },
     "execution_count": 20,
     "metadata": {},
     "output_type": "execute_result"
    }
   ],
   "source": [
    "D"
   ]
  },
  {
   "cell_type": "code",
   "execution_count": 21,
   "id": "a20fb6dd-96b4-4248-93fa-28a6289b7f2a",
   "metadata": {},
   "outputs": [
    {
     "data": {
      "text/plain": [
       "[1, 3, 4.9, 'name', 3, 'how', 'are', 6, 'you', 6.8]"
      ]
     },
     "execution_count": 21,
     "metadata": {},
     "output_type": "execute_result"
    }
   ],
   "source": [
    "#4 Delete\n",
    "#L\n",
    "L"
   ]
  },
  {
   "cell_type": "code",
   "execution_count": 22,
   "id": "5ba558e7-8f31-4c99-8690-9b115fe970fa",
   "metadata": {},
   "outputs": [],
   "source": [
    "del L[6]"
   ]
  },
  {
   "cell_type": "code",
   "execution_count": 23,
   "id": "c4be86ba-3b7b-40d8-a55a-4b0a3d1bdc24",
   "metadata": {},
   "outputs": [
    {
     "data": {
      "text/plain": [
       "{1, 23, 3, 4.9, 56, 'game', 'name'}"
      ]
     },
     "execution_count": 23,
     "metadata": {},
     "output_type": "execute_result"
    }
   ],
   "source": [
    "#SET\n",
    "S"
   ]
  },
  {
   "cell_type": "code",
   "execution_count": 24,
   "id": "b837ffb3-d391-4f37-855d-bf6674c499e0",
   "metadata": {},
   "outputs": [],
   "source": [
    "S.remove ('game')"
   ]
  },
  {
   "cell_type": "code",
   "execution_count": 25,
   "id": "48790877-558b-44c5-857d-cefda43b1c10",
   "metadata": {},
   "outputs": [
    {
     "data": {
      "text/plain": [
       "{23: 'TWOTHREE', 'B': 43, 'C': 'CCO', 'newKey': 'NewValue'}"
      ]
     },
     "execution_count": 25,
     "metadata": {},
     "output_type": "execute_result"
    }
   ],
   "source": [
    "#Dictionary\n",
    "D"
   ]
  },
  {
   "cell_type": "code",
   "execution_count": 26,
   "id": "b34b764f-963e-428a-abc9-cb38558481c9",
   "metadata": {},
   "outputs": [],
   "source": [
    "del D['C']"
   ]
  },
  {
   "cell_type": "code",
   "execution_count": 27,
   "id": "59ca778d-e1a2-413d-9190-1324cc46c735",
   "metadata": {},
   "outputs": [
    {
     "data": {
      "text/plain": [
       "[1, 3, 4.9, 'name', 3, 'how', 6, 'you', 6.8]"
      ]
     },
     "execution_count": 27,
     "metadata": {},
     "output_type": "execute_result"
    }
   ],
   "source": [
    "#Copy\n",
    "#Konsep\n",
    "L"
   ]
  },
  {
   "cell_type": "code",
   "execution_count": 28,
   "id": "58e10481-d015-406e-a16d-ffb19f935832",
   "metadata": {},
   "outputs": [],
   "source": [
    "L2 = L"
   ]
  },
  {
   "cell_type": "code",
   "execution_count": 29,
   "id": "f1bd9066-7bc7-45a8-9b47-ca8bd86846c8",
   "metadata": {},
   "outputs": [],
   "source": [
    "#maka nilai L2 akan sama dengan L setelah update maka untuk mebedakan menggunakan copy"
   ]
  },
  {
   "cell_type": "code",
   "execution_count": 30,
   "id": "f2b7bd54-bed8-49de-bc90-d50e09ea040a",
   "metadata": {},
   "outputs": [],
   "source": [
    "L2 [2] = \"four point nine\""
   ]
  },
  {
   "cell_type": "code",
   "execution_count": 31,
   "id": "7ffa88ed-2127-4076-aaad-d05e4f9bc3c5",
   "metadata": {},
   "outputs": [
    {
     "data": {
      "text/plain": [
       "[1, 3, 'four point nine', 'name', 3, 'how', 6, 'you', 6.8]"
      ]
     },
     "execution_count": 31,
     "metadata": {},
     "output_type": "execute_result"
    }
   ],
   "source": [
    "L2"
   ]
  },
  {
   "cell_type": "code",
   "execution_count": 32,
   "id": "125d4dee-bdbf-4d24-9dea-acfc6e512d9b",
   "metadata": {},
   "outputs": [
    {
     "data": {
      "text/plain": [
       "[1, 3, 'four point nine', 'name', 3, 'how', 6, 'you', 6.8]"
      ]
     },
     "execution_count": 32,
     "metadata": {},
     "output_type": "execute_result"
    }
   ],
   "source": [
    "L"
   ]
  },
  {
   "cell_type": "code",
   "execution_count": 33,
   "id": "e7ba8c29-a9ac-4da6-971c-42057f9d537c",
   "metadata": {},
   "outputs": [],
   "source": [
    "L2 = L.copy()"
   ]
  },
  {
   "cell_type": "code",
   "execution_count": 34,
   "id": "a73807e9-edd4-4718-aa4a-7797cc271ab8",
   "metadata": {},
   "outputs": [],
   "source": [
    "L2 [2] = \"TEST\""
   ]
  },
  {
   "cell_type": "code",
   "execution_count": 35,
   "id": "83fe97ce-bc65-40b3-ac1a-e667b213f428",
   "metadata": {},
   "outputs": [
    {
     "data": {
      "text/plain": [
       "[1, 3, 'TEST', 'name', 3, 'how', 6, 'you', 6.8]"
      ]
     },
     "execution_count": 35,
     "metadata": {},
     "output_type": "execute_result"
    }
   ],
   "source": [
    "L2"
   ]
  },
  {
   "cell_type": "code",
   "execution_count": 36,
   "id": "2e555f1b-2dbc-4119-b57a-a0e6f15b4f11",
   "metadata": {},
   "outputs": [
    {
     "data": {
      "text/plain": [
       "[1, 3, 'four point nine', 'name', 3, 'how', 6, 'you', 6.8]"
      ]
     },
     "execution_count": 36,
     "metadata": {},
     "output_type": "execute_result"
    }
   ],
   "source": [
    "L"
   ]
  },
  {
   "cell_type": "markdown",
   "id": "1f5792f0-b0e3-4acb-ad67-48cef4e41b52",
   "metadata": {},
   "source": [
    "#List, Tuple, Set, Dictionary in Inside"
   ]
  },
  {
   "cell_type": "code",
   "execution_count": 37,
   "id": "df81488d-9077-4ddd-83ff-851ae9041af1",
   "metadata": {},
   "outputs": [
    {
     "name": "stdout",
     "output_type": "stream",
     "text": [
      "{'A': [1, 3, 'four point nine', 'name', 3, 'how', 6, 'you', 6.8], 'B': (1, 3, 4.9, 'name', 3), 'C': {1, 3, 4.9, 'name', 23, 56}, 'D': {23: 'TWOTHREE', 'B': 43, 'newKey': 'NewValue'}}\n"
     ]
    }
   ],
   "source": [
    "D2 = {'A': L, 'B' : T, 'C' : S, 'D' : D}\n",
    "print (D2)"
   ]
  },
  {
   "cell_type": "code",
   "execution_count": 38,
   "id": "59915704-eb99-493e-b353-fab7506aca0d",
   "metadata": {},
   "outputs": [
    {
     "data": {
      "text/plain": [
       "'name'"
      ]
     },
     "execution_count": 38,
     "metadata": {},
     "output_type": "execute_result"
    }
   ],
   "source": [
    "D2['A'][3]"
   ]
  },
  {
   "cell_type": "code",
   "execution_count": 39,
   "id": "7b165516-4d60-4f59-9a10-6ff0c107cb74",
   "metadata": {},
   "outputs": [],
   "source": [
    "K = D2['D']"
   ]
  },
  {
   "cell_type": "code",
   "execution_count": 40,
   "id": "3c64d1d7-7c0a-4b07-973d-6176b99e1a1e",
   "metadata": {},
   "outputs": [
    {
     "data": {
      "text/plain": [
       "{23: 'TWOTHREE', 'B': 43, 'newKey': 'NewValue'}"
      ]
     },
     "execution_count": 40,
     "metadata": {},
     "output_type": "execute_result"
    }
   ],
   "source": [
    "K"
   ]
  },
  {
   "cell_type": "code",
   "execution_count": 41,
   "id": "26b5d3e5-f395-4547-a05d-3b41639d512f",
   "metadata": {},
   "outputs": [
    {
     "name": "stdout",
     "output_type": "stream",
     "text": [
      "23 TWOTHREE\n",
      "B 43\n",
      "newKey NewValue\n"
     ]
    }
   ],
   "source": [
    "for x in K:\n",
    "    print (x,K[x])"
   ]
  },
  {
   "cell_type": "code",
   "execution_count": 42,
   "id": "f0ba7d7c-7591-48af-97ea-982a52d8b04a",
   "metadata": {},
   "outputs": [],
   "source": [
    "L3 = [x**2 for x in range (10)]"
   ]
  },
  {
   "cell_type": "code",
   "execution_count": 43,
   "id": "e8f3d760-df92-4421-a424-a98f436d2407",
   "metadata": {},
   "outputs": [
    {
     "data": {
      "text/plain": [
       "[0, 1, 4, 9, 16, 25, 36, 49, 64, 81]"
      ]
     },
     "execution_count": 43,
     "metadata": {},
     "output_type": "execute_result"
    }
   ],
   "source": [
    "L3"
   ]
  },
  {
   "cell_type": "code",
   "execution_count": 44,
   "id": "c7157e2b-b6bf-41da-9837-917eae040664",
   "metadata": {},
   "outputs": [],
   "source": [
    "S3 = { x**2 for x in range (2, 20, 3)}"
   ]
  },
  {
   "cell_type": "code",
   "execution_count": 45,
   "id": "5cc1daea-9695-4a5a-a421-e76297a8cb7a",
   "metadata": {},
   "outputs": [
    {
     "data": {
      "text/plain": [
       "{4, 25, 64, 121, 196, 289}"
      ]
     },
     "execution_count": 45,
     "metadata": {},
     "output_type": "execute_result"
    }
   ],
   "source": [
    "S3"
   ]
  },
  {
   "cell_type": "markdown",
   "id": "f44c337f-408c-4cc9-ab92-fa95a0715e62",
   "metadata": {},
   "source": [
    "\"\"\"Let say you are teacher and you have different student records \n",
    "containing id of student and the marks list in each subject where different students have taken different \n",
    "number of subject. All these records are in hard copy. you want to enter all data in computer and want to compute\n",
    "the averae of each students and display\n",
    "\"\"\""
   ]
  },
  {
   "cell_type": "code",
   "execution_count": 51,
   "id": "028e2fb1-3a84-45ff-97af-579e22914b41",
   "metadata": {},
   "outputs": [],
   "source": [
    "def GetDataFromUser () :\n",
    "    D = {}\n",
    "    while True :\n",
    "        studentId = input (\"enter student ID :\")\n",
    "        marksList = input (\"enter the marks by comma separated values :\")\n",
    "        morestudents = input('enter \"no\" to quit insertion :')\n",
    "        if studentId in D :\n",
    "            print(studentId, 'Is Already Inserted')\n",
    "        else : \n",
    "            D[studentId] = marksList.split(\",\")\n",
    "        if morestudents.lower() == 'no':\n",
    "            return D"
   ]
  },
  {
   "cell_type": "code",
   "execution_count": 52,
   "id": "34777ec5-aa3b-4852-9891-92817f8f1622",
   "metadata": {},
   "outputs": [
    {
     "name": "stdin",
     "output_type": "stream",
     "text": [
      "enter student ID : 12\n",
      "enter the marks by comma separated values : 56,45,13\n",
      "enter \"no\" to quit insertion : asdf\n",
      "enter student ID : 45\n",
      "enter the marks by comma separated values : 44,55,66,77,4\n",
      "enter \"no\" to quit insertion : asdf\n",
      "enter student ID : 12\n",
      "enter the marks by comma separated values : 45,45\n",
      "enter \"no\" to quit insertion : asdf\n"
     ]
    },
    {
     "name": "stdout",
     "output_type": "stream",
     "text": [
      "12 Is Already Inserted\n"
     ]
    },
    {
     "name": "stdin",
     "output_type": "stream",
     "text": [
      "enter student ID : 23\n",
      "enter the marks by comma separated values : 45,45\n",
      "enter \"no\" to quit insertion : no\n"
     ]
    }
   ],
   "source": [
    "StudentData = GetDataFromUser ()"
   ]
  },
  {
   "cell_type": "code",
   "execution_count": 53,
   "id": "152740b1-b167-4c3f-8a9e-1dc2997f2a96",
   "metadata": {},
   "outputs": [
    {
     "data": {
      "text/plain": [
       "{'12': ['56', '45', '13'],\n",
       " '45': ['44', '55', '66', '77', '4'],\n",
       " '23': ['45', '45']}"
      ]
     },
     "execution_count": 53,
     "metadata": {},
     "output_type": "execute_result"
    }
   ],
   "source": [
    "StudentData"
   ]
  },
  {
   "cell_type": "code",
   "execution_count": 57,
   "id": "dc193709-97d5-4d31-900c-e143f351796a",
   "metadata": {},
   "outputs": [],
   "source": [
    "def GetAvgMarks(D) :\n",
    "    avgMarks = {}\n",
    "    for x in D :\n",
    "        L = D[x]\n",
    "        s = 0\n",
    "        for marks in L :\n",
    "            s += int(marks)\n",
    "        avgMarks[x] = s/len(L)\n",
    "    return avgMarks"
   ]
  },
  {
   "cell_type": "code",
   "execution_count": 58,
   "id": "390486fb-9de9-44ea-bf26-4e9a2ec6ddee",
   "metadata": {},
   "outputs": [],
   "source": [
    "avgM = GetAvgMarks (StudentData)"
   ]
  },
  {
   "cell_type": "code",
   "execution_count": 59,
   "id": "4253345d-a466-4f63-ad4e-a23a0c61aeae",
   "metadata": {},
   "outputs": [
    {
     "name": "stdout",
     "output_type": "stream",
     "text": [
      "Student : 12 got avg Marks as : 38.0\n",
      "Student : 45 got avg Marks as : 49.2\n",
      "Student : 23 got avg Marks as : 45.0\n"
     ]
    }
   ],
   "source": [
    "for x in avgM :\n",
    "    print(\"Student :\",x, \"got avg Marks as :\", avgM[x])"
   ]
  },
  {
   "cell_type": "code",
   "execution_count": null,
   "id": "b24cefc3-b8ca-403b-9dcc-44f94148f6c8",
   "metadata": {},
   "outputs": [],
   "source": []
  }
 ],
 "metadata": {
  "kernelspec": {
   "display_name": "Python 3 (ipykernel)",
   "language": "python",
   "name": "python3"
  },
  "language_info": {
   "codemirror_mode": {
    "name": "ipython",
    "version": 3
   },
   "file_extension": ".py",
   "mimetype": "text/x-python",
   "name": "python",
   "nbconvert_exporter": "python",
   "pygments_lexer": "ipython3",
   "version": "3.13.5"
  }
 },
 "nbformat": 4,
 "nbformat_minor": 5
}
