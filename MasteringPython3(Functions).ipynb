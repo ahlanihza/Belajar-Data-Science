{
 "cells": [
  {
   "cell_type": "markdown",
   "id": "f0ed3252-7486-4a16-b5f3-b3c8de289c6a",
   "metadata": {},
   "source": [
    "Functions"
   ]
  },
  {
   "cell_type": "code",
   "execution_count": 1,
   "id": "55fcd640-7b48-424b-9379-7c01c654b727",
   "metadata": {},
   "outputs": [],
   "source": [
    "def printSuccess () :\n",
    "    print (\"i am done\")\n",
    "    print (\"Send me another task\")"
   ]
  },
  {
   "cell_type": "code",
   "execution_count": 2,
   "id": "6500a6cb-f7bc-45b9-9c52-f0db93b7e462",
   "metadata": {},
   "outputs": [
    {
     "name": "stdout",
     "output_type": "stream",
     "text": [
      "i am done\n",
      "Send me another task\n"
     ]
    }
   ],
   "source": [
    "printSuccess ()"
   ]
  },
  {
   "cell_type": "markdown",
   "id": "99879222-7808-46b9-bdc8-cc7c4955caa0",
   "metadata": {},
   "source": [
    "Functions (DOC string)"
   ]
  },
  {
   "cell_type": "code",
   "execution_count": 12,
   "id": "5bd63c38-2136-499c-9421-db9fa492e785",
   "metadata": {},
   "outputs": [],
   "source": [
    "def PrintSuccess2() :\n",
    "    \"\"\" This functin is doing nothing except printing a message.\n",
    "    That message is \"hello\"\n",
    "    \"\"\"\n",
    "    print(\"hello\")"
   ]
  },
  {
   "cell_type": "code",
   "execution_count": 13,
   "id": "b75a7fa1-1abf-4868-bf67-d523897b425b",
   "metadata": {},
   "outputs": [
    {
     "name": "stdout",
     "output_type": "stream",
     "text": [
      "hello\n"
     ]
    }
   ],
   "source": [
    "PrintSuccess2 ()"
   ]
  },
  {
   "cell_type": "code",
   "execution_count": 14,
   "id": "4cf75223-cb28-4049-b9fe-98946a8b1908",
   "metadata": {},
   "outputs": [
    {
     "data": {
      "text/plain": [
       "\u001b[31mSignature:\u001b[39m PrintSuccess2()\n",
       "\u001b[31mSource:\u001b[39m   \n",
       "\u001b[38;5;28;01mdef\u001b[39;00m PrintSuccess2() :\n",
       "    \u001b[33m\"\"\" This functin is doing nothing except printing a message.\u001b[39m\n",
       "\u001b[33m    That message is \"hello\"\u001b[39m\n",
       "\u001b[33m    \"\"\"\u001b[39m\n",
       "    print(\u001b[33m\"hello\"\u001b[39m)\n",
       "\u001b[31mFile:\u001b[39m      c:\\users\\personal\\appdata\\local\\temp\\ipykernel_12568\\2675922289.py\n",
       "\u001b[31mType:\u001b[39m      function"
      ]
     },
     "metadata": {},
     "output_type": "display_data"
    }
   ],
   "source": [
    "PrintSuccess2??"
   ]
  },
  {
   "cell_type": "markdown",
   "id": "195639d8-9426-4c2a-8113-38dbbe2a25e3",
   "metadata": {},
   "source": [
    "Functions(input arguments)"
   ]
  },
  {
   "cell_type": "code",
   "execution_count": 19,
   "id": "6084da3b-6a3a-4a17-a395-95c5bd5229fb",
   "metadata": {},
   "outputs": [],
   "source": [
    "def PrintMessage(msg) :\n",
    "    \"\"\"the functions print the message supplied by user\n",
    "    or prints that msg is not from ao a string\n",
    "    \"\"\"\n",
    "    if isinstance(msg, str):\n",
    "        print(msg)\n",
    "    else :\n",
    "        print (\"your input argument is not string\")\n",
    "        print (\"here is the type of what you have supplied:\", type(msg))\n",
    "    "
   ]
  },
  {
   "cell_type": "code",
   "execution_count": 22,
   "id": "d5cd7e9c-6ae8-4061-b65c-29fd48b39995",
   "metadata": {},
   "outputs": [
    {
     "name": "stdout",
     "output_type": "stream",
     "text": [
      "hello there\n"
     ]
    }
   ],
   "source": [
    "PrintMessage(\"hello there\")\n"
   ]
  },
  {
   "cell_type": "code",
   "execution_count": 23,
   "id": "19aaa5e4-216a-4909-9cc0-c37c50d5cd16",
   "metadata": {},
   "outputs": [
    {
     "name": "stdout",
     "output_type": "stream",
     "text": [
      "your input argument is not string\n",
      "here is the type of what you have supplied: <class 'int'>\n"
     ]
    }
   ],
   "source": [
    "PrintMessage(65)"
   ]
  },
  {
   "cell_type": "markdown",
   "id": "a7fdc744-23b2-46f8-ab99-b8f924d6f9a0",
   "metadata": {},
   "source": [
    "Functions (Input argument) #multiple"
   ]
  },
  {
   "cell_type": "code",
   "execution_count": 24,
   "id": "ac64dac4-be3f-443f-95ca-9b212c7064b1",
   "metadata": {},
   "outputs": [],
   "source": [
    "def mypow (a,b) :\n",
    "    \"\"\"this functions computes jut likes builtin pow functions\"\"\"\n",
    "    c = a**b\n",
    "    print (c)"
   ]
  },
  {
   "cell_type": "code",
   "execution_count": 25,
   "id": "67446c88-288f-4911-8985-aa41f1d641fc",
   "metadata": {},
   "outputs": [
    {
     "name": "stdout",
     "output_type": "stream",
     "text": [
      "1073741824\n"
     ]
    }
   ],
   "source": [
    "mypow (8,10)"
   ]
  },
  {
   "cell_type": "code",
   "execution_count": 27,
   "id": "ca93c8ec-3208-46aa-918f-f11655f17af2",
   "metadata": {},
   "outputs": [],
   "source": [
    "def CheckArgs(a,b,c) :\n",
    "    if isinstance (a, (int,float)) and isinstance (b,(int,float)) and isinstance (c,(int,float)) :\n",
    "        print ((a+b+c)**2)\n",
    "    else  :\n",
    "        print(\"error: the input arguments are not the expected types\")"
   ]
  },
  {
   "cell_type": "code",
   "execution_count": 28,
   "id": "43997a4f-bee0-4fd7-829b-1353b08d565b",
   "metadata": {},
   "outputs": [
    {
     "name": "stdout",
     "output_type": "stream",
     "text": [
      "81\n"
     ]
    }
   ],
   "source": [
    "CheckArgs(2,3,4)"
   ]
  },
  {
   "cell_type": "code",
   "execution_count": 29,
   "id": "5e0a3c26-1577-4f5b-958f-9003a6648dce",
   "metadata": {},
   "outputs": [
    {
     "name": "stdout",
     "output_type": "stream",
     "text": [
      "error: the input arguments are not the expected types\n"
     ]
    }
   ],
   "source": [
    "CheckArgs(9,8,\"low\")"
   ]
  },
  {
   "cell_type": "markdown",
   "id": "4905e020-ab05-44b1-9fce-43f643010e97",
   "metadata": {},
   "source": [
    "functions (Order of Input Arguments)"
   ]
  },
  {
   "cell_type": "code",
   "execution_count": 30,
   "id": "01fa87fb-9693-4306-84ff-2bb81f2ad504",
   "metadata": {},
   "outputs": [],
   "source": [
    "def f(a,b,c) :\n",
    "    print (\"A is :\",a)\n",
    "    print (\"B is :\",b)\n",
    "    print (\"C is :\",c)"
   ]
  },
  {
   "cell_type": "code",
   "execution_count": 31,
   "id": "482f2b58-9fc0-44d9-9253-f82cf1fe22d2",
   "metadata": {},
   "outputs": [
    {
     "name": "stdout",
     "output_type": "stream",
     "text": [
      "A is : 2\n",
      "B is : 3\n",
      "C is : Game\n"
     ]
    }
   ],
   "source": [
    "f (2,3,\"Game\")"
   ]
  },
  {
   "cell_type": "code",
   "execution_count": 32,
   "id": "132dd337-406c-4aaf-818b-3754d9e3745e",
   "metadata": {},
   "outputs": [
    {
     "name": "stdout",
     "output_type": "stream",
     "text": [
      "A is : 2\n",
      "B is : 3\n",
      "C is : game\n"
     ]
    }
   ],
   "source": [
    "#f(a = 2, b = 3, c = \"game\")\n",
    "f(c = \"game\", a = 2, b = 3)"
   ]
  },
  {
   "cell_type": "markdown",
   "id": "8c4990de-fe7b-498a-8c47-34c85f98d9d0",
   "metadata": {},
   "source": [
    "functions(Variable Inside)"
   ]
  },
  {
   "cell_type": "code",
   "execution_count": 1,
   "id": "bdcb4b60-c74c-4d06-a4e7-2de8639b7096",
   "metadata": {},
   "outputs": [],
   "source": [
    "def myadd(a, b) :\n",
    "    sumValue = a+b\n",
    "    return sumValue"
   ]
  },
  {
   "cell_type": "code",
   "execution_count": 3,
   "id": "7d6c884a-704b-4bde-a180-28cc9c2b9a89",
   "metadata": {},
   "outputs": [
    {
     "name": "stdout",
     "output_type": "stream",
     "text": [
      "5\n"
     ]
    }
   ],
   "source": [
    "d = myadd(2,3)\n",
    "print(d)"
   ]
  },
  {
   "cell_type": "code",
   "execution_count": 4,
   "id": "b5c32d14-015b-447c-9362-bf6c594d85fc",
   "metadata": {},
   "outputs": [],
   "source": [
    "variableoutsidethefunctions = 3"
   ]
  },
  {
   "cell_type": "code",
   "execution_count": 14,
   "id": "c5584e1a-1509-4f0c-9c5f-28d420292f44",
   "metadata": {},
   "outputs": [],
   "source": [
    "def g() :\n",
    "    variableoutsidethefunctions = 7\n",
    "    print(variableoutsidethefunctions)"
   ]
  },
  {
   "cell_type": "code",
   "execution_count": 15,
   "id": "5c82b81d-d2ad-44d6-9644-1811a9c6cfc1",
   "metadata": {},
   "outputs": [
    {
     "name": "stdout",
     "output_type": "stream",
     "text": [
      "7\n"
     ]
    }
   ],
   "source": [
    "g()"
   ]
  },
  {
   "cell_type": "code",
   "execution_count": 16,
   "id": "eaddc120-b1d1-42ff-bc62-ca551776ff75",
   "metadata": {},
   "outputs": [
    {
     "name": "stdout",
     "output_type": "stream",
     "text": [
      "3\n"
     ]
    }
   ],
   "source": [
    "print(variableoutsidethefunctions)"
   ]
  },
  {
   "cell_type": "code",
   "execution_count": 21,
   "id": "a8e07584-4263-4636-8f39-446b3baf1942",
   "metadata": {},
   "outputs": [],
   "source": [
    "def h() :\n",
    "    print (\"A\")\n",
    "    a = 3\n",
    "    b = 5\n",
    "    c = a + b\n",
    "    print (\"something\")\n",
    "    return c\n",
    "    print (\"B\")\n",
    "    print (\"C\")"
   ]
  },
  {
   "cell_type": "code",
   "execution_count": 22,
   "id": "11a3635b-0cfd-4459-8ebe-8f512d1e7d87",
   "metadata": {},
   "outputs": [
    {
     "name": "stdout",
     "output_type": "stream",
     "text": [
      "A\n",
      "something\n"
     ]
    },
    {
     "data": {
      "text/plain": [
       "8"
      ]
     },
     "execution_count": 22,
     "metadata": {},
     "output_type": "execute_result"
    }
   ],
   "source": [
    "h()"
   ]
  },
  {
   "cell_type": "code",
   "execution_count": 26,
   "id": "697e6a2f-23c1-41e0-a342-aa18a8f96614",
   "metadata": {},
   "outputs": [],
   "source": [
    "def r() :\n",
    "    a = 5\n",
    "    b = 7\n",
    "    d = \"something\"\n",
    "    return a, b, d"
   ]
  },
  {
   "cell_type": "code",
   "execution_count": 27,
   "id": "e47edacd-09fb-4e84-99d5-b0c402c5ddca",
   "metadata": {},
   "outputs": [
    {
     "name": "stdout",
     "output_type": "stream",
     "text": [
      "5 7 something\n"
     ]
    }
   ],
   "source": [
    "x, y, z = r ()\n",
    "print(x,y,z)"
   ]
  },
  {
   "cell_type": "markdown",
   "id": "06c4b1c6-848f-4ddf-8903-00f23692a4cc",
   "metadata": {},
   "source": [
    "Functions (Variable Number of Input Arguments)"
   ]
  },
  {
   "cell_type": "code",
   "execution_count": 31,
   "id": "d7f280a2-ed9a-467c-9aa0-8cf044883ae0",
   "metadata": {},
   "outputs": [],
   "source": [
    "def myadduniversal(*args):\n",
    "    s = 0\n",
    "    for i in range (len(args)):\n",
    "        s += args[i] # s = s + args[i]\n",
    "    return s"
   ]
  },
  {
   "cell_type": "code",
   "execution_count": 32,
   "id": "43a579dd-11da-4a80-823a-17a305342c03",
   "metadata": {},
   "outputs": [
    {
     "name": "stdout",
     "output_type": "stream",
     "text": [
      "20\n"
     ]
    }
   ],
   "source": [
    "print(myadduniversal(2,3,4,5,6))"
   ]
  },
  {
   "cell_type": "code",
   "execution_count": 38,
   "id": "2dca6a73-e80b-4c47-a5e2-9059cddd0528",
   "metadata": {},
   "outputs": [],
   "source": [
    "def printallvariablenameandvalues(**args) :\n",
    "    for x in args :\n",
    "        print (\"variable name is :\",x, \"and value is:\", args[x])"
   ]
  },
  {
   "cell_type": "code",
   "execution_count": 39,
   "id": "6cd82479-1fcc-4e71-9458-3f4a18df18e6",
   "metadata": {},
   "outputs": [
    {
     "name": "stdout",
     "output_type": "stream",
     "text": [
      "variable name is : a and value is: 3\n",
      "variable name is : b and value is: bb\n",
      "variable name is : c and value is: ddd\n"
     ]
    }
   ],
   "source": [
    "printallvariablenameandvalues(a = 3, b = \"bb\", c= \"ddd\")"
   ]
  },
  {
   "cell_type": "markdown",
   "id": "af99f810-bfe7-4f9a-9f4d-80a18f00bd81",
   "metadata": {},
   "source": [
    "Functins (Dafult Values) #Bentuk Dasar"
   ]
  },
  {
   "cell_type": "code",
   "execution_count": 42,
   "id": "c21c2cf0-f5b0-4052-a938-a35532879519",
   "metadata": {},
   "outputs": [],
   "source": [
    "def ff (L=[1,2]) :\n",
    "    for i in L :\n",
    "        print (i)"
   ]
  },
  {
   "cell_type": "code",
   "execution_count": 43,
   "id": "f27706b9-1d1e-4b84-9e63-30f9cc5061d0",
   "metadata": {},
   "outputs": [
    {
     "name": "stdout",
     "output_type": "stream",
     "text": [
      "1\n",
      "2\n"
     ]
    }
   ],
   "source": [
    "L2 = [12, 3, 4] \n",
    "ff ()"
   ]
  },
  {
   "cell_type": "code",
   "execution_count": 45,
   "id": "423b8523-94f5-48b9-a753-798db93b2f13",
   "metadata": {},
   "outputs": [
    {
     "name": "stdout",
     "output_type": "stream",
     "text": [
      "12\n",
      "3\n",
      "4\n"
     ]
    }
   ],
   "source": [
    "ff (L2) #akan menggnatikan variable awal jika () diisi"
   ]
  },
  {
   "cell_type": "code",
   "execution_count": null,
   "id": "799a4ee1-c47a-4493-8340-3e37b6daa45e",
   "metadata": {},
   "outputs": [],
   "source": []
  }
 ],
 "metadata": {
  "kernelspec": {
   "display_name": "Python 3 (ipykernel)",
   "language": "python",
   "name": "python3"
  },
  "language_info": {
   "codemirror_mode": {
    "name": "ipython",
    "version": 3
   },
   "file_extension": ".py",
   "mimetype": "text/x-python",
   "name": "python",
   "nbconvert_exporter": "python",
   "pygments_lexer": "ipython3",
   "version": "3.13.5"
  }
 },
 "nbformat": 4,
 "nbformat_minor": 5
}
