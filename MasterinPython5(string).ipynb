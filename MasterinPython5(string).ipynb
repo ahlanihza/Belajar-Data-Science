{
 "cells": [
  {
   "cell_type": "code",
   "execution_count": 3,
   "id": "366ca558-e7ee-444c-b1d2-048ce1dc822d",
   "metadata": {},
   "outputs": [],
   "source": [
    "#string\n",
    "s = \"python is a good language\"\n",
    "t = \"it's good for data science\""
   ]
  },
  {
   "cell_type": "code",
   "execution_count": 4,
   "id": "75d6e7c1-1f40-4449-8a0a-6bf32b89e43c",
   "metadata": {},
   "outputs": [
    {
     "name": "stdout",
     "output_type": "stream",
     "text": [
      "python is a good language\n"
     ]
    }
   ],
   "source": [
    "print (s)"
   ]
  },
  {
   "cell_type": "code",
   "execution_count": 5,
   "id": "68e3804d-6ab5-4118-8cd2-739ce67f02e7",
   "metadata": {},
   "outputs": [
    {
     "data": {
      "text/plain": [
       "str"
      ]
     },
     "execution_count": 5,
     "metadata": {},
     "output_type": "execute_result"
    }
   ],
   "source": [
    "type(s)"
   ]
  },
  {
   "cell_type": "code",
   "execution_count": 8,
   "id": "23b6879a-6d95-4e18-b770-9e621882f303",
   "metadata": {},
   "outputs": [
    {
     "name": "stdout",
     "output_type": "stream",
     "text": [
      "python is a good language it's good for data science\n"
     ]
    }
   ],
   "source": [
    "v = s +\" \"+ t\n",
    "print (v)"
   ]
  },
  {
   "cell_type": "code",
   "execution_count": 11,
   "id": "f8280624-0ff1-4ccb-9d63-7811bab77a00",
   "metadata": {},
   "outputs": [
    {
     "name": "stdout",
     "output_type": "stream",
     "text": [
      "the price of this book is : 12\n",
      "the price of this book  is :  12\n"
     ]
    }
   ],
   "source": [
    "price = 12\n",
    "s = \"the price of this book\"\n",
    "#v = s + \"is : \" + price # int cannot to string in variable so must convert\n",
    "v = s + \" is : \" + str(price)\n",
    "print (v)\n",
    "print (s, \" is : \", price)"
   ]
  },
  {
   "cell_type": "code",
   "execution_count": 12,
   "id": "92c03aa6-68d3-4e5f-adc5-a3c502977bfe",
   "metadata": {},
   "outputs": [
    {
     "name": "stdout",
     "output_type": "stream",
     "text": [
      "this is line 1\n",
      "this is line 2\n",
      "this is last line and this is line 3 \n"
     ]
    }
   ],
   "source": [
    "a = \"\"\"this is line 1\n",
    "this is line 2\n",
    "this is last line and this is line 3 \"\"\"\n",
    "print (a)"
   ]
  },
  {
   "cell_type": "code",
   "execution_count": 13,
   "id": "929ae945-10ea-4b09-a258-5db2391fa697",
   "metadata": {},
   "outputs": [
    {
     "name": "stdout",
     "output_type": "stream",
     "text": [
      "The following options are availlable :\n",
      "            - a : does nothing\n",
      "            - b :also does nothing\n",
      "\n"
     ]
    }
   ],
   "source": [
    "print ( \"\"\"The following options are availlable :\n",
    "            - a : does nothing\n",
    "            - b :also does nothing\n",
    "\"\"\")"
   ]
  },
  {
   "cell_type": "markdown",
   "id": "b8166568-3ec0-4f15-9d48-a53a77a65a06",
   "metadata": {},
   "source": [
    "STRING COUNT"
   ]
  },
  {
   "cell_type": "code",
   "execution_count": 14,
   "id": "8bb584bb-7f27-40bc-88f6-037395c38701",
   "metadata": {},
   "outputs": [
    {
     "name": "stdout",
     "output_type": "stream",
     "text": [
      "r\n"
     ]
    }
   ],
   "source": [
    "s = \"how are you and who are you\"\n",
    "print (s[5])"
   ]
  },
  {
   "cell_type": "code",
   "execution_count": 15,
   "id": "5e7315a9-21b2-4d5c-82cf-a505d2457b81",
   "metadata": {},
   "outputs": [
    {
     "data": {
      "text/plain": [
       "' are y'"
      ]
     },
     "execution_count": 15,
     "metadata": {},
     "output_type": "execute_result"
    }
   ],
   "source": [
    "s[3:9]"
   ]
  },
  {
   "cell_type": "code",
   "execution_count": 16,
   "id": "349eb35a-2d3a-4714-ab7a-4e6ac868e1b7",
   "metadata": {},
   "outputs": [
    {
     "data": {
      "text/plain": [
       "' are '"
      ]
     },
     "execution_count": 16,
     "metadata": {},
     "output_type": "execute_result"
    }
   ],
   "source": [
    "s[-8:-3]"
   ]
  },
  {
   "cell_type": "code",
   "execution_count": 17,
   "id": "a2f0707f-ad9d-4f1f-8d18-0f0858b21164",
   "metadata": {},
   "outputs": [
    {
     "data": {
      "text/plain": [
       "'hwaeyu'"
      ]
     },
     "execution_count": 17,
     "metadata": {},
     "output_type": "execute_result"
    }
   ],
   "source": [
    "s [0:12:2] # a[strat:end:step]"
   ]
  },
  {
   "cell_type": "markdown",
   "id": "126f8181-9aeb-4435-8cc8-cc227ef5a594",
   "metadata": {},
   "source": [
    "STRING CONTINUE..."
   ]
  },
  {
   "cell_type": "code",
   "execution_count": 18,
   "id": "d3a27b4f-d85b-4b23-9e3b-07752997871f",
   "metadata": {},
   "outputs": [
    {
     "name": "stdout",
     "output_type": "stream",
     "text": [
      "abd def   ghi jkl\n"
     ]
    }
   ],
   "source": [
    "a = \"    abd def   ghi jkl   \"\n",
    "b = a.strip()  #to remove space in beginning and end\n",
    "print (b)"
   ]
  },
  {
   "cell_type": "code",
   "execution_count": 20,
   "id": "858aec82-aa68-4326-b336-409488a8ef71",
   "metadata": {},
   "outputs": [
    {
     "name": "stdout",
     "output_type": "stream",
     "text": [
      "abc defg ;; sadfa qf\n"
     ]
    }
   ],
   "source": [
    "a = \"ABC defg ;; sadfa QF\"\n",
    "b = a.lower()\n",
    "print (b)"
   ]
  },
  {
   "cell_type": "code",
   "execution_count": 21,
   "id": "a61217fe-8bd9-475b-89d3-f934c1798771",
   "metadata": {},
   "outputs": [
    {
     "name": "stdout",
     "output_type": "stream",
     "text": [
      "ABC DEFG ;; SADFA QF\n"
     ]
    }
   ],
   "source": [
    "c = a.upper ()\n",
    "print (c)"
   ]
  },
  {
   "cell_type": "code",
   "execution_count": 24,
   "id": "d5365fea-2e15-4672-929f-0ed249b334a7",
   "metadata": {},
   "outputs": [
    {
     "name": "stdout",
     "output_type": "stream",
     "text": [
      "ABC defg ** sadfa QF\n"
     ]
    }
   ],
   "source": [
    "d = a.replace( \";\",\"*\")\n",
    "print (d)"
   ]
  },
  {
   "cell_type": "code",
   "execution_count": 25,
   "id": "10ec0ed1-5027-4082-9f7c-791b752bd706",
   "metadata": {},
   "outputs": [
    {
     "name": "stdout",
     "output_type": "stream",
     "text": [
      "['abc', 'def', 'hgyfa', 'yy23']\n"
     ]
    }
   ],
   "source": [
    "a = \"abc;def;hgyfa;yy23\"\n",
    "L = a.split(\";\")\n",
    "print (L)"
   ]
  },
  {
   "cell_type": "code",
   "execution_count": 27,
   "id": "5ee07d56-07d0-4bbe-9f24-38aecdd0e981",
   "metadata": {},
   "outputs": [
    {
     "name": "stdout",
     "output_type": "stream",
     "text": [
      "Abc;def;hgyfa;yy23\n"
     ]
    }
   ],
   "source": [
    "print(a.capitalize())"
   ]
  },
  {
   "cell_type": "code",
   "execution_count": 29,
   "id": "5454ab7e-fef4-4c62-8f09-cf4ae20b8864",
   "metadata": {},
   "outputs": [
    {
     "data": {
      "text/plain": [
       "False"
      ]
     },
     "execution_count": 29,
     "metadata": {},
     "output_type": "execute_result"
    }
   ],
   "source": [
    "\"dhn\" in \"defghijklmn\""
   ]
  },
  {
   "cell_type": "code",
   "execution_count": null,
   "id": "81c7986c-0d66-4638-8fae-76b0d41ce548",
   "metadata": {},
   "outputs": [],
   "source": []
  }
 ],
 "metadata": {
  "kernelspec": {
   "display_name": "Python 3 (ipykernel)",
   "language": "python",
   "name": "python3"
  },
  "language_info": {
   "codemirror_mode": {
    "name": "ipython",
    "version": 3
   },
   "file_extension": ".py",
   "mimetype": "text/x-python",
   "name": "python",
   "nbconvert_exporter": "python",
   "pygments_lexer": "ipython3",
   "version": "3.13.5"
  }
 },
 "nbformat": 4,
 "nbformat_minor": 5
}
