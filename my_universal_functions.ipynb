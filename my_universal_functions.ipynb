{
 "cells": [
  {
   "cell_type": "code",
   "execution_count": 8,
   "id": "b5532d42-eacf-4010-8095-cd4b36532f35",
   "metadata": {},
   "outputs": [],
   "source": [
    "def checkifnotnumber (L) :\n",
    "    for x in L :\n",
    "        if not (isinstance(x, (int, float))):\n",
    "            return False\n",
    "    return True\n",
    "\n",
    "def addallnumbers(*args) :\n",
    "    s = 0\n",
    "    for x in args :\n",
    "        s += x\n",
    "    return s\n",
    "\n",
    "myName = \"PythonCourse\""
   ]
  },
  {
   "cell_type": "code",
   "execution_count": 9,
   "id": "86d45b8b-ce21-4897-94a8-ec83a207665e",
   "metadata": {},
   "outputs": [
    {
     "name": "stdout",
     "output_type": "stream",
     "text": [
      "True\n"
     ]
    }
   ],
   "source": [
    "print(checkifnotnumber([2,1,5,3,8,17]))"
   ]
  },
  {
   "cell_type": "code",
   "execution_count": null,
   "id": "ad9f73b7-d512-4c8d-ae31-1df392a9f065",
   "metadata": {},
   "outputs": [],
   "source": []
  }
 ],
 "metadata": {
  "kernelspec": {
   "display_name": "Python 3 (ipykernel)",
   "language": "python",
   "name": "python3"
  },
  "language_info": {
   "codemirror_mode": {
    "name": "ipython",
    "version": 3
   },
   "file_extension": ".py",
   "mimetype": "text/x-python",
   "name": "python",
   "nbconvert_exporter": "python",
   "pygments_lexer": "ipython3",
   "version": "3.13.5"
  }
 },
 "nbformat": 4,
 "nbformat_minor": 5
}
