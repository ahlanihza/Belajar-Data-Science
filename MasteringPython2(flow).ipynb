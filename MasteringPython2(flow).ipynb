{
 "cells": [
  {
   "cell_type": "markdown",
   "id": "9a837d09-516a-4cf6-a0c1-8c387b5fdc73",
   "metadata": {},
   "source": [
    "Control Flow (If Condition)"
   ]
  },
  {
   "cell_type": "code",
   "execution_count": 2,
   "id": "513f7011-9e35-42a2-af6a-fb27707c283a",
   "metadata": {},
   "outputs": [
    {
     "name": "stdin",
     "output_type": "stream",
     "text": [
      " 2\n",
      " 3\n"
     ]
    },
    {
     "name": "stdout",
     "output_type": "stream",
     "text": [
      "i am outside the if conditions\n"
     ]
    }
   ],
   "source": [
    "a = int(input())\n",
    "b = int(input())\n",
    "if a>b :\n",
    "    print (a)\n",
    "    print (\"i am still inside if conditions\")\n",
    "print (\"i am outside the if conditions\")"
   ]
  },
  {
   "cell_type": "code",
   "execution_count": null,
   "id": "ad32937b-b4f8-4e4f-96de-e434cbda5057",
   "metadata": {},
   "outputs": [],
   "source": [
    "a = int(input())\n",
    "b = int(input())\n",
    "if a > b :\n",
    "    print (a)\n",
    "if b > a :\n",
    "    print (b)"
   ]
  },
  {
   "cell_type": "markdown",
   "id": "a22f20ff-c8dc-45bb-9a1d-b2861867b930",
   "metadata": {},
   "source": [
    "Control flow (If-Else)"
   ]
  },
  {
   "cell_type": "code",
   "execution_count": null,
   "id": "d3b5bbc6-53ae-4b90-bdaa-01fe51d4759c",
   "metadata": {},
   "outputs": [],
   "source": [
    "a = int(input())\n",
    "b = int(input())\n",
    "if a>b :\n",
    "    print(a)\n",
    "    print(\"if part\")\n",
    "else :\n",
    "    print(b)\n",
    "    print(\"else past\")\n",
    "    "
   ]
  },
  {
   "cell_type": "markdown",
   "id": "2db560cc-c108-4a39-8374-b5590430132c",
   "metadata": {},
   "source": [
    "Control Flow (If-Elif-Else)"
   ]
  },
  {
   "cell_type": "code",
   "execution_count": null,
   "id": "ceb0a95f-39d3-4be9-b450-88c884376e5b",
   "metadata": {},
   "outputs": [],
   "source": [
    "a = 1\n",
    "b = 5\n",
    "if a == b :\n",
    "    print (\"equal\")\n",
    "elif a>b :\n",
    "    print (a)\n",
    "else :\n",
    "    print (b)\n",
    "print (\"Not In If\")"
   ]
  },
  {
   "cell_type": "code",
   "execution_count": null,
   "id": "758f7610-7fa4-4c59-8e8c-5d3439c4015c",
   "metadata": {},
   "outputs": [],
   "source": [
    "a = int(input(\"Enter marks :\"))\n",
    "if a >= 85 :\n",
    "    print (\"A Grade\")\n",
    "elif (a < 85) and (a>=80) :\n",
    "    print (\"A- Grade\")\n",
    "elif (a < 80) and ( a >= 75) :\n",
    "    print (\"B Grade\")\n",
    "elif (a < 75) and (a >= 70) :\n",
    "    print (\"B- Grade\")\n",
    "else :\n",
    "    print (\" Below Average \")\n",
    "    \n",
    "    "
   ]
  },
  {
   "cell_type": "code",
   "execution_count": null,
   "id": "d9c12b0e-bd44-4cc0-b416-10c4674ce6af",
   "metadata": {},
   "outputs": [],
   "source": [
    "a = 13\n",
    "if (a>10) :\n",
    "    print (\">10\")\n",
    "elif not (a>10) :\n",
    "    print (\"Else Part\")"
   ]
  },
  {
   "cell_type": "markdown",
   "id": "5bccba57-eec5-418f-91d1-def1fd766dd5",
   "metadata": {},
   "source": [
    "Control Flow (Nested IF)"
   ]
  },
  {
   "cell_type": "code",
   "execution_count": null,
   "id": "4284144b-8a94-4726-9e47-eeec0baa2536",
   "metadata": {},
   "outputs": [],
   "source": [
    "a = int (input())\n",
    "if a>10:\n",
    "    print (\">10\")\n",
    "    print (\"Inside the Top If\")\n",
    "    if a>20 :\n",
    "        print (\"a>20\")\n",
    "        print (\"inside the nested if\")\n",
    "        if a > 30 :\n",
    "            print (\">30\")\n",
    "            print(\"insted the nested if of nested if\")\n",
    "        else :\n",
    "            print (\"<=30\")\n",
    "            print (\"inside the else part of nested if of nested if\")\n",
    "    else :\n",
    "        print(\"<=20\")\n",
    "        print(\"inside the else part of nested if\")\n",
    "print (\"Outside all ifs\")"
   ]
  },
  {
   "cell_type": "code",
   "execution_count": 4,
   "id": "6a937333-c3b7-4551-b693-90843ec6afcf",
   "metadata": {},
   "outputs": [
    {
     "name": "stdin",
     "output_type": "stream",
     "text": [
      "enter a real number : 34.98\n"
     ]
    },
    {
     "name": "stdout",
     "output_type": "stream",
     "text": [
      "34\n",
      "Even\n"
     ]
    }
   ],
   "source": [
    "\"\"\"\n",
    "User will enter a floating point number let say 238.915. your task \n",
    "is to find out the integer portion before the point (in this case 238)\n",
    "and then ceck if that integer portion is an even number or not\n",
    "\"\"\"\n",
    "x = float(input(\"enter a real number :\"))\n",
    "y = round (x)\n",
    "if x > 0 :\n",
    "    y = round (x)\n",
    "    if y > x : \n",
    "        intPortion = y - 1 # 29.9 -> 30 so -1 become 29\n",
    "    else :\n",
    "        intPortion = y\n",
    "else :\n",
    "    if y < x :\n",
    "        intPortion = y + 1\n",
    "    else :\n",
    "        intPortion = y\n",
    "    \n",
    "print (intPortion)\n",
    "if intPortion % 2 == 0 :\n",
    "    print(\"Even\")\n",
    "else :\n",
    "    print(\"odd\")\n"
   ]
  },
  {
   "cell_type": "markdown",
   "id": "6479291e-9cfc-4d99-9eb8-71e993b3d09e",
   "metadata": {},
   "source": [
    "control Flow : LOOP"
   ]
  },
  {
   "cell_type": "code",
   "execution_count": 1,
   "id": "5e12c613-7b62-4308-9f4c-772fdaf051d7",
   "metadata": {},
   "outputs": [
    {
     "name": "stdin",
     "output_type": "stream",
     "text": [
      " 5\n"
     ]
    },
    {
     "name": "stdout",
     "output_type": "stream",
     "text": [
      "1\n",
      "This is iteration number : 1\n",
      "4\n",
      "This is iteration number : 2\n",
      "9\n",
      "This is iteration number : 3\n",
      "16\n",
      "This is iteration number : 4\n",
      "loop done\n"
     ]
    }
   ],
   "source": [
    "n = int(input())\n",
    "i = 1\n",
    "while i< n :\n",
    "    print (i**2)\n",
    "    print(\"This is iteration number :\",i)\n",
    "    i += 1# i = i+1\n",
    "print (\"loop done\")"
   ]
  },
  {
   "cell_type": "markdown",
   "id": "0e048cad-2749-46f4-b2f7-fba74af5bbc1",
   "metadata": {},
   "source": [
    "n = int(input (\"Max Iterations :\"))\n",
    "i = 1\n",
    "while i < n :\n",
    "    if i%2 == 0 :\n",
    "        print (i)\n",
    "    else :\n",
    "        pass\n",
    "    i += 1\n",
    "print('done')"
   ]
  },
  {
   "cell_type": "markdown",
   "id": "01bbf4a1-8232-4dc5-bb3e-bdcf88710f7f",
   "metadata": {},
   "source": [
    "Control Flow (Loops : break and Continioue)"
   ]
  },
  {
   "cell_type": "code",
   "execution_count": 8,
   "id": "29fb4abf-dc06-45f4-899e-8e09c399a755",
   "metadata": {},
   "outputs": [
    {
     "name": "stdout",
     "output_type": "stream",
     "text": [
      "inside else\n",
      "inside else\n",
      "inside else\n",
      "inside else\n",
      "inside else\n",
      "inside else\n",
      "inside else\n",
      "inside else\n",
      "Inside If\n",
      "done\n"
     ]
    }
   ],
   "source": [
    "n = 10\n",
    "i = 1\n",
    "while True :\n",
    "    if i % 9 == 0 :\n",
    "        print(\"Inside If\")\n",
    "        break\n",
    "    else :\n",
    "        print(\"inside else\")\n",
    "        i += 1\n",
    "print(\"done\")\n",
    "    "
   ]
  },
  {
   "cell_type": "markdown",
   "id": "f6e5bcfc-5ff7-426a-ad58-c1b8c3f7356a",
   "metadata": {},
   "source": [
    "Control Flow : For LOOP"
   ]
  },
  {
   "cell_type": "code",
   "execution_count": 5,
   "id": "e4158bfc-9aea-4d27-b6f0-b3cbef783148",
   "metadata": {},
   "outputs": [
    {
     "name": "stdout",
     "output_type": "stream",
     "text": [
      "1\n",
      "3\n",
      "5\n",
      "7\n",
      "9\n",
      "[0, 4, 16, 36, 64]\n"
     ]
    }
   ],
   "source": [
    "R = []\n",
    "for i in range (0,10,2) : #start , end , Jump/ only end allowed\n",
    "    print(i+1)\n",
    "    R.append(i**2)\n",
    "print (R)"
   ]
  },
  {
   "cell_type": "markdown",
   "id": "44e53d58-337a-4f6d-bd57-a801a1b245ad",
   "metadata": {},
   "source": [
    "Control Flow (Else in for loops)"
   ]
  },
  {
   "cell_type": "code",
   "execution_count": 14,
   "id": "5a0b3387-0428-4de3-b5be-00c44a0d7499",
   "metadata": {},
   "outputs": [
    {
     "name": "stdout",
     "output_type": "stream",
     "text": [
      "apple\n",
      "4.9\n",
      "Out Side the LOOP\n"
     ]
    }
   ],
   "source": [
    "s = (\"apple\", \"4.9\", \"Cherry\")\n",
    "i = 1\n",
    "for x in s :\n",
    "    print (x)\n",
    "    i += 1\n",
    "    if i == 3 :\n",
    "        break\n",
    "    else :\n",
    "        pass\n",
    "else :\n",
    "    print(\"Loop terminates with success\")\n",
    "    "
   ]
  },
  {
   "cell_type": "markdown",
   "id": "718dafc8-cf18-4cb5-b585-ab6ea2078c95",
   "metadata": {},
   "source": [
    "Control Flow (Exploring a Dictionary)"
   ]
  },
  {
   "cell_type": "code",
   "execution_count": 26,
   "id": "4e2dac14-b90b-43be-914e-05783461e7f4",
   "metadata": {},
   "outputs": [
    {
     "name": "stdout",
     "output_type": "stream",
     "text": [
      "A 10\n",
      "B -19\n",
      "C abc\n"
     ]
    }
   ],
   "source": [
    "D = {\"A\":10,\"B\":-19,\"C\":\"abc\"}\n",
    "for x in D :\n",
    "    print (x, D[x])"
   ]
  },
  {
   "cell_type": "code",
   "execution_count": 24,
   "id": "0f5ee4f0-d997-4727-8251-e3f1bc117adc",
   "metadata": {},
   "outputs": [
    {
     "name": "stdout",
     "output_type": "stream",
     "text": [
      "[-5, 1, 2, 2, 3, 4, 7, 9]\n"
     ]
    }
   ],
   "source": [
    "\"\"\"Given a list of numbers i.e. [1,2,4,-5,7,9,3,2], make another list\n",
    "that result contains all items in sorted order from min to max i.e. your result \n",
    "will be anothe list ike [-5,1,2,2,3,4,7,9]\n",
    "\"\"\"\n",
    "\n",
    "L = [1,2,4,-5,7,9,3,2]\n",
    "for j in range (len(L)) :\n",
    "    m = L[j]\n",
    "    idx = j\n",
    "    c = j\n",
    "    for i in range (j, len(L)):\n",
    "        if L[i] < m: \n",
    "            m = L[i] \n",
    "            idx = c\n",
    "        c+=1\n",
    "    tmp = L[j]\n",
    "    L[j] = m\n",
    "    L[idx] = tmp\n",
    "print (L)"
   ]
  },
  {
   "cell_type": "code",
   "execution_count": 29,
   "id": "cc8e78de-d027-4c9c-91ec-fbe35924803a",
   "metadata": {},
   "outputs": [
    {
     "ename": "TypeError",
     "evalue": "'builtin_function_or_method' object is not subscriptable",
     "output_type": "error",
     "traceback": [
      "\u001b[31m---------------------------------------------------------------------------\u001b[39m",
      "\u001b[31mTypeError\u001b[39m                                 Traceback (most recent call last)",
      "\u001b[36mCell\u001b[39m\u001b[36m \u001b[39m\u001b[32mIn[29]\u001b[39m\u001b[32m, line 15\u001b[39m\n\u001b[32m     12\u001b[39m L[\u001b[32m0\u001b[39m] = m\n\u001b[32m     13\u001b[39m L[idx] = tmp\n\u001b[32m---> \u001b[39m\u001b[32m15\u001b[39m \u001b[38;5;28;43mprint\u001b[39;49m\u001b[43m \u001b[49m\u001b[43m[\u001b[49m\u001b[43mL\u001b[49m\u001b[43m]\u001b[49m\n",
      "\u001b[31mTypeError\u001b[39m: 'builtin_function_or_method' object is not subscriptable"
     ]
    }
   ],
   "source": [
    "L = [0,2,4,-5,7,9,3,2]\n",
    "\n",
    "m = L[0]    #-----> 1\n",
    "idx = 0     #-----> 2\n",
    "c = 0       #------>2\n",
    "for i in L :     #----->1\n",
    "    if i<m :     #----->1\n",
    "        m = i    #----->1\n",
    "        idx = c  #----->2\n",
    "    c +=1    #--- --->2\n",
    "tmp = L[0]\n",
    "L[0] = m\n",
    "L[idx] = tmp"
   ]
  },
  {
   "cell_type": "code",
   "execution_count": null,
   "id": "a858ebbd-670b-46c3-8e6c-7418fbe1223f",
   "metadata": {},
   "outputs": [],
   "source": []
  },
  {
   "cell_type": "code",
   "execution_count": null,
   "id": "5d77f000-bf77-4bdd-af8f-44d13a9dd355",
   "metadata": {},
   "outputs": [],
   "source": []
  }
 ],
 "metadata": {
  "kernelspec": {
   "display_name": "Python 3 (ipykernel)",
   "language": "python",
   "name": "python3"
  },
  "language_info": {
   "codemirror_mode": {
    "name": "ipython",
    "version": 3
   },
   "file_extension": ".py",
   "mimetype": "text/x-python",
   "name": "python",
   "nbconvert_exporter": "python",
   "pygments_lexer": "ipython3",
   "version": "3.13.5"
  }
 },
 "nbformat": 4,
 "nbformat_minor": 5
}
