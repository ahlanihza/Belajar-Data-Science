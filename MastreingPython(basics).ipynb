{
 "cells": [
  {
   "cell_type": "markdown",
   "id": "1cbbfb62-2249-4021-8614-502fd612b1b1",
   "metadata": {},
   "source": [
    "This is Python Tutorial"
   ]
  },
  {
   "cell_type": "markdown",
   "id": "fc6e85fa-edff-44e6-acd0-a7f76b370a24",
   "metadata": {},
   "source": [
    "This is our first program in python : it is just started here"
   ]
  },
  {
   "cell_type": "code",
   "execution_count": 1,
   "id": "177cb64b-cc8a-4466-a953-645e138f9896",
   "metadata": {},
   "outputs": [
    {
     "name": "stdout",
     "output_type": "stream",
     "text": [
      "Hello World\n"
     ]
    }
   ],
   "source": [
    "print(\"Hello World\")"
   ]
  },
  {
   "cell_type": "code",
   "execution_count": 2,
   "id": "04cd4a11-b040-4a3a-830d-3efdd1a4c3c7",
   "metadata": {},
   "outputs": [],
   "source": [
    "a=9"
   ]
  },
  {
   "cell_type": "code",
   "execution_count": 3,
   "id": "623d6462-30be-42ad-b253-35ab32dfbdd7",
   "metadata": {},
   "outputs": [],
   "source": [
    "b=8*7"
   ]
  },
  {
   "cell_type": "code",
   "execution_count": 4,
   "id": "1805b459-a969-4fae-a491-51404cd5758e",
   "metadata": {},
   "outputs": [
    {
     "name": "stdout",
     "output_type": "stream",
     "text": [
      "0.16071428571428573\n"
     ]
    }
   ],
   "source": [
    "print(a/b)"
   ]
  },
  {
   "cell_type": "markdown",
   "id": "88069744-216a-4a6d-bf45-cb85eedb51d7",
   "metadata": {},
   "source": [
    "VARIABLES"
   ]
  },
  {
   "cell_type": "code",
   "execution_count": 5,
   "id": "e7e0b631-7616-4fa6-80eb-0e00ce295ea0",
   "metadata": {},
   "outputs": [],
   "source": [
    "x = 3"
   ]
  },
  {
   "cell_type": "code",
   "execution_count": 6,
   "id": "acd0718d-6d44-4078-b004-f000357038ae",
   "metadata": {},
   "outputs": [
    {
     "name": "stdout",
     "output_type": "stream",
     "text": [
      "<class 'int'>\n"
     ]
    }
   ],
   "source": [
    "print(type(x))"
   ]
  },
  {
   "cell_type": "code",
   "execution_count": 7,
   "id": "a09d8e41-f11a-49b8-b034-e2784d1ea5eb",
   "metadata": {},
   "outputs": [],
   "source": [
    "x = 5.7"
   ]
  },
  {
   "cell_type": "code",
   "execution_count": 8,
   "id": "e333a330-954d-446f-a467-2b467f0359ba",
   "metadata": {},
   "outputs": [
    {
     "name": "stdout",
     "output_type": "stream",
     "text": [
      "Variable   Type     Data/Info\n",
      "-----------------------------\n",
      "a          int      9\n",
      "b          int      56\n",
      "x          float    5.7\n"
     ]
    }
   ],
   "source": [
    "%whos"
   ]
  },
  {
   "cell_type": "code",
   "execution_count": 9,
   "id": "c5275568-0ab7-4330-aea1-5082a8acd753",
   "metadata": {},
   "outputs": [
    {
     "name": "stdout",
     "output_type": "stream",
     "text": [
      "<class 'float'>\n"
     ]
    }
   ],
   "source": [
    " print(type(x))"
   ]
  },
  {
   "cell_type": "code",
   "execution_count": 10,
   "id": "ec0027db-27b1-4099-a989-8ef7452fee88",
   "metadata": {},
   "outputs": [],
   "source": [
    "a,b,c,d,f = 3,5,6.0,7.2,-3"
   ]
  },
  {
   "cell_type": "code",
   "execution_count": 11,
   "id": "cbb742d0-27d9-4539-9409-4641d3f514eb",
   "metadata": {},
   "outputs": [
    {
     "name": "stdout",
     "output_type": "stream",
     "text": [
      "Variable   Type     Data/Info\n",
      "-----------------------------\n",
      "a          int      3\n",
      "b          int      5\n",
      "c          float    6.0\n",
      "d          float    7.2\n",
      "f          int      -3\n",
      "x          float    5.7\n"
     ]
    }
   ],
   "source": [
    "%whos"
   ]
  },
  {
   "cell_type": "code",
   "execution_count": 12,
   "id": "7a9ce7a6-0bb3-499b-99c5-353329b4572c",
   "metadata": {},
   "outputs": [],
   "source": [
    "abcd = 556.32"
   ]
  },
  {
   "cell_type": "code",
   "execution_count": 13,
   "id": "4966c2ca-97d5-4b68-8f9d-3b75ffd9a08c",
   "metadata": {},
   "outputs": [
    {
     "name": "stdout",
     "output_type": "stream",
     "text": [
      "Variable   Type     Data/Info\n",
      "-----------------------------\n",
      "a          int      3\n",
      "abcd       float    556.32\n",
      "b          int      5\n",
      "c          float    6.0\n",
      "d          float    7.2\n",
      "f          int      -3\n",
      "x          float    5.7\n"
     ]
    }
   ],
   "source": [
    "%whos"
   ]
  },
  {
   "cell_type": "code",
   "execution_count": 14,
   "id": "e1d5702d-1e29-4492-a2bd-3cf7a07e270a",
   "metadata": {},
   "outputs": [],
   "source": [
    "del abcd"
   ]
  },
  {
   "cell_type": "code",
   "execution_count": 15,
   "id": "608005ba-a55f-4e7d-8c5b-e4549de3d23a",
   "metadata": {},
   "outputs": [
    {
     "name": "stdout",
     "output_type": "stream",
     "text": [
      "Variable   Type     Data/Info\n",
      "-----------------------------\n",
      "a          int      3\n",
      "b          int      5\n",
      "c          float    6.0\n",
      "d          float    7.2\n",
      "f          int      -3\n",
      "x          float    5.7\n"
     ]
    }
   ],
   "source": [
    "%whos"
   ]
  },
  {
   "cell_type": "code",
   "execution_count": 16,
   "id": "45e7dea1-6e74-48eb-88f1-c1e2d556095c",
   "metadata": {},
   "outputs": [
    {
     "ename": "NameError",
     "evalue": "name 'abcd' is not defined",
     "output_type": "error",
     "traceback": [
      "\u001b[31m---------------------------------------------------------------------------\u001b[39m",
      "\u001b[31mNameError\u001b[39m                                 Traceback (most recent call last)",
      "\u001b[36mCell\u001b[39m\u001b[36m \u001b[39m\u001b[32mIn[16]\u001b[39m\u001b[32m, line 1\u001b[39m\n\u001b[32m----> \u001b[39m\u001b[32m1\u001b[39m \u001b[38;5;28mprint\u001b[39m(\u001b[43mabcd\u001b[49m)\n",
      "\u001b[31mNameError\u001b[39m: name 'abcd' is not defined"
     ]
    }
   ],
   "source": [
    "print(abcd)"
   ]
  },
  {
   "cell_type": "code",
   "execution_count": 17,
   "id": "ea65c7ad-3628-4253-a70e-be45642493d7",
   "metadata": {},
   "outputs": [],
   "source": [
    "c = 2+4j"
   ]
  },
  {
   "cell_type": "code",
   "execution_count": 18,
   "id": "ead08608-c5f3-4475-aa51-e451fe022081",
   "metadata": {},
   "outputs": [
    {
     "name": "stdout",
     "output_type": "stream",
     "text": [
      "<class 'complex'>\n"
     ]
    }
   ],
   "source": [
    "print(type (c))"
   ]
  },
  {
   "cell_type": "code",
   "execution_count": 19,
   "id": "1ab9aa84-76df-4826-afce-111cfb05fb7d",
   "metadata": {},
   "outputs": [],
   "source": [
    "s = \"hello how are You\""
   ]
  },
  {
   "cell_type": "code",
   "execution_count": 20,
   "id": "7147b271-ca87-4545-9b7c-6952c3d59afa",
   "metadata": {},
   "outputs": [
    {
     "name": "stdout",
     "output_type": "stream",
     "text": [
      "<class 'str'>\n"
     ]
    }
   ],
   "source": [
    "print(type(s))"
   ]
  },
  {
   "cell_type": "markdown",
   "id": "32a4a559-7f88-4c6b-b594-8772bf841afb",
   "metadata": {},
   "source": [
    "OPERATORS"
   ]
  },
  {
   "cell_type": "code",
   "execution_count": 21,
   "id": "656e8605-5a3c-4a82-8fb3-92815915151e",
   "metadata": {},
   "outputs": [
    {
     "name": "stdout",
     "output_type": "stream",
     "text": [
      "Variable   Type       Data/Info\n",
      "-------------------------------\n",
      "a          int        3\n",
      "b          int        5\n",
      "c          complex    (2+4j)\n",
      "d          float      7.2\n",
      "f          int        -3\n",
      "s          str        hello how are You\n",
      "x          float      5.7\n"
     ]
    }
   ],
   "source": [
    "%whos"
   ]
  },
  {
   "cell_type": "code",
   "execution_count": 22,
   "id": "d6615dbd-683b-497f-8d29-1b3b8a1e70ef",
   "metadata": {},
   "outputs": [],
   "source": [
    " sumofaAndb = a+b"
   ]
  },
  {
   "cell_type": "code",
   "execution_count": 23,
   "id": "bc65b906-07e2-4038-926d-aea610ceaeb5",
   "metadata": {},
   "outputs": [
    {
     "name": "stdout",
     "output_type": "stream",
     "text": [
      "8\n"
     ]
    }
   ],
   "source": [
    "print(sumofaAndb)\n",
    "      "
   ]
  },
  {
   "cell_type": "code",
   "execution_count": 24,
   "id": "61fac2ca-fc5a-4259-94ba-77945be0651c",
   "metadata": {},
   "outputs": [
    {
     "data": {
      "text/plain": [
       "int"
      ]
     },
     "execution_count": 24,
     "metadata": {},
     "output_type": "execute_result"
    }
   ],
   "source": [
    "type(sumofaAndb)"
   ]
  },
  {
   "cell_type": "code",
   "execution_count": 25,
   "id": "d091040e-5461-4a9c-9a77-a1558ae5b211",
   "metadata": {},
   "outputs": [
    {
     "data": {
      "text/plain": [
       "float"
      ]
     },
     "execution_count": 25,
     "metadata": {},
     "output_type": "execute_result"
    }
   ],
   "source": [
    "type(a+d)"
   ]
  },
  {
   "cell_type": "code",
   "execution_count": 26,
   "id": "86200472-db4b-4f5e-a45a-e97736a1d739",
   "metadata": {},
   "outputs": [
    {
     "name": "stdout",
     "output_type": "stream",
     "text": [
      "HelloWorld\n"
     ]
    }
   ],
   "source": [
    "s1 = \"Hello\"\n",
    "s2 = \"World\"\n",
    "s = s1 + s2\n",
    "print(s)"
   ]
  },
  {
   "cell_type": "markdown",
   "id": "8efff0c2-b708-47d2-9ba3-429f1033ba35",
   "metadata": {},
   "source": [
    " TYPE BOOL "
   ]
  },
  {
   "cell_type": "code",
   "execution_count": 29,
   "id": "353d940d-d496-468b-a1f9-7631e8d4144b",
   "metadata": {},
   "outputs": [],
   "source": [
    " a= True\n",
    " b= True\n",
    " c= False"
   ]
  },
  {
   "cell_type": "code",
   "execution_count": 30,
   "id": "37a4e099-cfa8-4559-90f4-380729262ec3",
   "metadata": {},
   "outputs": [
    {
     "name": "stdout",
     "output_type": "stream",
     "text": [
      "Variable     Type     Data/Info\n",
      "-------------------------------\n",
      "a            bool     True\n",
      "b            bool     True\n",
      "c            bool     False\n",
      "d            float    7.2\n",
      "f            int      -3\n",
      "s            str      HelloWorld\n",
      "s1           str      Hello\n",
      "s2           str      World\n",
      "sumofaAndb   int      8\n",
      "x            float    5.7\n"
     ]
    }
   ],
   "source": [
    "%whos"
   ]
  },
  {
   "cell_type": "code",
   "execution_count": 31,
   "id": "65234b27-f353-4682-bf12-76eb54a28f99",
   "metadata": {},
   "outputs": [
    {
     "name": "stdout",
     "output_type": "stream",
     "text": [
      "True\n",
      "False\n",
      "False\n"
     ]
    }
   ],
   "source": [
    " print (a and b)\n",
    " print (a and c)\n",
    " print (c and a)"
   ]
  },
  {
   "cell_type": "code",
   "execution_count": 32,
   "id": "c413521f-fe5e-4994-988c-71523f9fb7c9",
   "metadata": {},
   "outputs": [
    {
     "name": "stdout",
     "output_type": "stream",
     "text": [
      "True\n"
     ]
    }
   ],
   "source": [
    "d = a or c \n",
    "print (d)"
   ]
  },
  {
   "cell_type": "code",
   "execution_count": 34,
   "id": "30450ecb-1e7a-455c-819a-4147acef44de",
   "metadata": {},
   "outputs": [
    {
     "data": {
      "text/plain": [
       "False"
      ]
     },
     "execution_count": 34,
     "metadata": {},
     "output_type": "execute_result"
    }
   ],
   "source": [
    "not(a)"
   ]
  },
  {
   "cell_type": "code",
   "execution_count": 35,
   "id": "585bed1f-19b9-4fef-9b1a-f16c6f45441c",
   "metadata": {},
   "outputs": [
    {
     "data": {
      "text/plain": [
       "True"
      ]
     },
     "execution_count": 35,
     "metadata": {},
     "output_type": "execute_result"
    }
   ],
   "source": [
    "not(c)"
   ]
  },
  {
   "cell_type": "markdown",
   "id": "b7c967a8-3745-4ce0-9beb-4e67609d80a7",
   "metadata": {},
   "source": [
    "COMPARISON"
   ]
  },
  {
   "cell_type": "code",
   "execution_count": 36,
   "id": "5cf1089e-b0a6-47a5-87dd-2504fef2a90b",
   "metadata": {},
   "outputs": [
    {
     "name": "stdout",
     "output_type": "stream",
     "text": [
      "True\n"
     ]
    }
   ],
   "source": [
    "print (2<3)"
   ]
  },
  {
   "cell_type": "code",
   "execution_count": 38,
   "id": "c98841ce-b7a2-4e77-99fa-47795143ecfa",
   "metadata": {},
   "outputs": [
    {
     "name": "stdout",
     "output_type": "stream",
     "text": [
      "<class 'bool'>\n",
      "True\n"
     ]
    }
   ],
   "source": [
    "c = 2<3\n",
    "print (type(c))\n",
    "print (c)"
   ]
  },
  {
   "cell_type": "code",
   "execution_count": 40,
   "id": "6a330f7b-2365-4c59-bfcc-73e6aef827ed",
   "metadata": {},
   "outputs": [
    {
     "name": "stdout",
     "output_type": "stream",
     "text": [
      "False\n"
     ]
    }
   ],
   "source": [
    "d = 3==4\n",
    "print (d)"
   ]
  },
  {
   "cell_type": "code",
   "execution_count": 41,
   "id": "344fcaf1-e7c6-4b72-be22-3d2346b79deb",
   "metadata": {},
   "outputs": [
    {
     "data": {
      "text/plain": [
       "True"
      ]
     },
     "execution_count": 41,
     "metadata": {},
     "output_type": "execute_result"
    }
   ],
   "source": [
    "3==3.0"
   ]
  },
  {
   "cell_type": "code",
   "execution_count": 42,
   "id": "b209029f-c2e2-4969-8fab-b1181669178d",
   "metadata": {},
   "outputs": [],
   "source": [
    "x = 4\n",
    "y = 9\n",
    "z = 8.3\n",
    "r = -3"
   ]
  },
  {
   "cell_type": "code",
   "execution_count": 45,
   "id": "e04d7d4f-56c2-4765-a7b4-8bd9ce287510",
   "metadata": {},
   "outputs": [
    {
     "data": {
      "text/plain": [
       "True"
      ]
     },
     "execution_count": 45,
     "metadata": {},
     "output_type": "execute_result"
    }
   ],
   "source": [
    "(x<y) and (z<y) or (r==x)"
   ]
  },
  {
   "cell_type": "code",
   "execution_count": 47,
   "id": "16ccef82-89f1-4178-92c5-3f34af2357cc",
   "metadata": {},
   "outputs": [
    {
     "name": "stdout",
     "output_type": "stream",
     "text": [
      "False\n"
     ]
    }
   ],
   "source": [
    "print((not(2!=3) and True) or (False and True))"
   ]
  },
  {
   "cell_type": "markdown",
   "id": "facd49ea-49c7-484a-b964-b13aa1f7d218",
   "metadata": {},
   "source": [
    "Useful Function In Python"
   ]
  },
  {
   "cell_type": "code",
   "execution_count": 3,
   "id": "973f43bf-6c9f-4021-a087-1fc9429c5a64",
   "metadata": {},
   "outputs": [
    {
     "name": "stdout",
     "output_type": "stream",
     "text": [
      "5\n",
      "4.457\n"
     ]
    }
   ],
   "source": [
    "###Round(Pembulatan)\n",
    "print(round(4.547))\n",
    "print(round(4.45674,3))"
   ]
  },
  {
   "cell_type": "code",
   "execution_count": 8,
   "id": "7b4cc468-abde-4466-9719-edbcd5080a02",
   "metadata": {},
   "outputs": [
    {
     "name": "stdout",
     "output_type": "stream",
     "text": [
      "(3, 7)\n"
     ]
    }
   ],
   "source": [
    "#divmod (Tuple, hasil ppembagian dan sisa)\n",
    "G = divmod(34,9)\n",
    "print (G)"
   ]
  },
  {
   "cell_type": "code",
   "execution_count": 10,
   "id": "665e4469-006f-4914-9bdf-2b9cb02f87fe",
   "metadata": {},
   "outputs": [
    {
     "data": {
      "text/plain": [
       "3"
      ]
     },
     "execution_count": 10,
     "metadata": {},
     "output_type": "execute_result"
    }
   ],
   "source": [
    "type(G)\n",
    "G[0] #index/posisi"
   ]
  },
  {
   "cell_type": "code",
   "execution_count": 12,
   "id": "e6f5d2f8-9095-40b6-b78c-ea14beb17359",
   "metadata": {},
   "outputs": [
    {
     "data": {
      "text/plain": [
       "True"
      ]
     },
     "execution_count": 12,
     "metadata": {},
     "output_type": "execute_result"
    }
   ],
   "source": [
    "  #isistance(cek type)\n",
    "isinstance (3.4, (float))"
   ]
  },
  {
   "cell_type": "code",
   "execution_count": 13,
   "id": "5688dc33-7682-4f3d-a665-ffad5f09a718",
   "metadata": {},
   "outputs": [
    {
     "data": {
      "text/plain": [
       "True"
      ]
     },
     "execution_count": 13,
     "metadata": {},
     "output_type": "execute_result"
    }
   ],
   "source": [
    " isinstance (2+3j,(int,float,str,complex))"
   ]
  },
  {
   "cell_type": "code",
   "execution_count": 14,
   "id": "32414c0b-149b-44f3-8abf-1812f494edb1",
   "metadata": {},
   "outputs": [
    {
     "data": {
      "text/plain": [
       "2"
      ]
     },
     "execution_count": 14,
     "metadata": {},
     "output_type": "execute_result"
    }
   ],
   "source": [
    "#POW (pangkat, kemudian dibagi)\n",
    "pow(2,4,7)"
   ]
  },
  {
   "cell_type": "code",
   "execution_count": 15,
   "id": "01615e7a-771c-4bbf-b9dc-15d3ae46e02e",
   "metadata": {},
   "outputs": [
    {
     "name": "stdin",
     "output_type": "stream",
     "text": [
      "enter a number : 56\n"
     ]
    }
   ],
   "source": [
    "#input\n",
    "x = input (\"enter a number :\") #type string"
   ]
  },
  {
   "cell_type": "code",
   "execution_count": 16,
   "id": "6db84e19-1dda-4e7f-9715-6153fdb64aa4",
   "metadata": {},
   "outputs": [
    {
     "data": {
      "text/plain": [
       "str"
      ]
     },
     "execution_count": 16,
     "metadata": {},
     "output_type": "execute_result"
    }
   ],
   "source": [
    "type (x)"
   ]
  },
  {
   "cell_type": "code",
   "execution_count": 17,
   "id": "87a38b18-c067-4276-ade0-7a9ef33cdf0c",
   "metadata": {},
   "outputs": [],
   "source": [
    "x = int (x)"
   ]
  },
  {
   "cell_type": "code",
   "execution_count": 18,
   "id": "0cb7c97f-e78a-419e-ab12-22f195710da9",
   "metadata": {},
   "outputs": [
    {
     "name": "stdout",
     "output_type": "stream",
     "text": [
      "22\n"
     ]
    }
   ],
   "source": [
    "print (x - 34)"
   ]
  },
  {
   "cell_type": "code",
   "execution_count": 19,
   "id": "6cc56db8-a9a9-4e04-acb4-21d2fcd77920",
   "metadata": {},
   "outputs": [
    {
     "name": "stdin",
     "output_type": "stream",
     "text": [
      "enter a real number : 34\n"
     ]
    }
   ],
   "source": [
    "a = float(input(\"enter a real number :\")) #float"
   ]
  },
  {
   "cell_type": "code",
   "execution_count": 21,
   "id": "73e4c82f-e97f-4c0c-a482-bb3b5bc0ac54",
   "metadata": {},
   "outputs": [
    {
     "name": "stdin",
     "output_type": "stream",
     "text": [
      "enter a real number : abc\n"
     ]
    },
    {
     "ename": "ValueError",
     "evalue": "could not convert string to float: 'abc'",
     "output_type": "error",
     "traceback": [
      "\u001b[31m---------------------------------------------------------------------------\u001b[39m",
      "\u001b[31mValueError\u001b[39m                                Traceback (most recent call last)",
      "\u001b[36mCell\u001b[39m\u001b[36m \u001b[39m\u001b[32mIn[21]\u001b[39m\u001b[32m, line 1\u001b[39m\n\u001b[32m----> \u001b[39m\u001b[32m1\u001b[39m b = \u001b[38;5;28;43mfloat\u001b[39;49m\u001b[43m(\u001b[49m\u001b[38;5;28;43minput\u001b[39;49m\u001b[43m(\u001b[49m\u001b[33;43m\"\u001b[39;49m\u001b[33;43menter a real number :\u001b[39;49m\u001b[33;43m\"\u001b[39;49m\u001b[43m)\u001b[49m\u001b[43m)\u001b[49m\n",
      "\u001b[31mValueError\u001b[39m: could not convert string to float: 'abc'"
     ]
    }
   ],
   "source": [
    "b = float(input(\"enter a real number :\"))"
   ]
  },
  {
   "cell_type": "code",
   "execution_count": null,
   "id": "0d5d220c-216c-4379-abee-90960ba1dfa4",
   "metadata": {},
   "outputs": [],
   "source": []
  }
 ],
 "metadata": {
  "kernelspec": {
   "display_name": "Python 3 (ipykernel)",
   "language": "python",
   "name": "python3"
  },
  "language_info": {
   "codemirror_mode": {
    "name": "ipython",
    "version": 3
   },
   "file_extension": ".py",
   "mimetype": "text/x-python",
   "name": "python",
   "nbconvert_exporter": "python",
   "pygments_lexer": "ipython3",
   "version": "3.13.5"
  }
 },
 "nbformat": 4,
 "nbformat_minor": 5
}
