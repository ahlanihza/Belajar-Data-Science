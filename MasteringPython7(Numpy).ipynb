{
 "cells": [
  {
   "cell_type": "code",
   "execution_count": 1,
   "id": "b74cff04-037d-461f-8c18-017ea286df42",
   "metadata": {},
   "outputs": [],
   "source": [
    "import numpy as np"
   ]
  },
  {
   "cell_type": "code",
   "execution_count": 2,
   "id": "0c838c12-4750-4c8c-bd2e-99416f1ee610",
   "metadata": {},
   "outputs": [],
   "source": [
    "a=np.array([1,2,3,5,7], dtype ='i') "
   ]
  },
  {
   "cell_type": "code",
   "execution_count": 3,
   "id": "f78bb41a-acb8-4fcd-8a42-20fc975f6e2c",
   "metadata": {},
   "outputs": [],
   "source": [
    "b = np.array((2,3,5), dtype = 'f') #change to f"
   ]
  },
  {
   "cell_type": "code",
   "execution_count": 4,
   "id": "0ab11b21-4440-4aa4-8e23-8e0559eee7b8",
   "metadata": {},
   "outputs": [
    {
     "data": {
      "text/plain": [
       "dtype('int32')"
      ]
     },
     "execution_count": 4,
     "metadata": {},
     "output_type": "execute_result"
    }
   ],
   "source": [
    "a.dtype"
   ]
  },
  {
   "cell_type": "code",
   "execution_count": 5,
   "id": "0a8a61aa-4d51-4e36-a27a-e5a5b1f7ced2",
   "metadata": {},
   "outputs": [
    {
     "data": {
      "text/plain": [
       "dtype('float32')"
      ]
     },
     "execution_count": 5,
     "metadata": {},
     "output_type": "execute_result"
    }
   ],
   "source": [
    "b.dtype"
   ]
  },
  {
   "cell_type": "markdown",
   "id": "2dba8458-792a-41ef-a8ec-55583ddb5663",
   "metadata": {},
   "source": [
    "#Numpy (Dimension)"
   ]
  },
  {
   "cell_type": "code",
   "execution_count": 6,
   "id": "c0b29ceb-f2ee-40c3-86d1-ccebf40b46cd",
   "metadata": {},
   "outputs": [],
   "source": [
    "a = np.array([[1,2,3], [4,5,6]])"
   ]
  },
  {
   "cell_type": "code",
   "execution_count": 7,
   "id": "8b81c0dd-ce58-4381-88ea-b48f56c273ae",
   "metadata": {},
   "outputs": [
    {
     "data": {
      "text/plain": [
       "2"
      ]
     },
     "execution_count": 7,
     "metadata": {},
     "output_type": "execute_result"
    }
   ],
   "source": [
    "a.ndim"
   ]
  },
  {
   "cell_type": "code",
   "execution_count": 8,
   "id": "f19569e5-6331-48ce-91d2-2a8648e47990",
   "metadata": {},
   "outputs": [
    {
     "data": {
      "text/plain": [
       "np.int64(3)"
      ]
     },
     "execution_count": 8,
     "metadata": {},
     "output_type": "execute_result"
    }
   ],
   "source": [
    "a[0,2]"
   ]
  },
  {
   "cell_type": "code",
   "execution_count": 9,
   "id": "59dbac54-4a5d-4dcb-af78-35c9618ef39f",
   "metadata": {},
   "outputs": [],
   "source": [
    "B = np.array([[1,2,3,0], [2,4,5,9]], dtype='i')"
   ]
  },
  {
   "cell_type": "code",
   "execution_count": 10,
   "id": "5f08415a-d984-4447-8fd7-4106964d5772",
   "metadata": {},
   "outputs": [
    {
     "data": {
      "text/plain": [
       "np.int32(5)"
      ]
     },
     "execution_count": 10,
     "metadata": {},
     "output_type": "execute_result"
    }
   ],
   "source": [
    "B[1,2]"
   ]
  },
  {
   "cell_type": "code",
   "execution_count": 11,
   "id": "c1d8a3a2-fe8b-4239-846f-e85418e21407",
   "metadata": {},
   "outputs": [],
   "source": [
    "c = np.array ([[[1,2,3],[4,5,6],[0,0,-1]],[[-1,-2,-3],[-4,-5,-6],[0,0,1]]])"
   ]
  },
  {
   "cell_type": "code",
   "execution_count": 12,
   "id": "1912154c-d6a4-4e69-8e79-7d357176eaf2",
   "metadata": {},
   "outputs": [
    {
     "data": {
      "text/plain": [
       "3"
      ]
     },
     "execution_count": 12,
     "metadata": {},
     "output_type": "execute_result"
    }
   ],
   "source": [
    "c.ndim"
   ]
  },
  {
   "cell_type": "code",
   "execution_count": 13,
   "id": "e5e771dc-f9d1-471a-ae42-1a14e9f9c01f",
   "metadata": {},
   "outputs": [
    {
     "data": {
      "text/plain": [
       "np.int64(-3)"
      ]
     },
     "execution_count": 13,
     "metadata": {},
     "output_type": "execute_result"
    }
   ],
   "source": [
    "c[1,0,2]"
   ]
  },
  {
   "cell_type": "code",
   "execution_count": 14,
   "id": "04e3bdf0-e794-4696-aa34-5289bf7df22e",
   "metadata": {},
   "outputs": [
    {
     "data": {
      "text/plain": [
       "(2, 3, 3)"
      ]
     },
     "execution_count": 14,
     "metadata": {},
     "output_type": "execute_result"
    }
   ],
   "source": [
    "c.shape"
   ]
  },
  {
   "cell_type": "markdown",
   "id": "5f564d5c-f70f-4c40-9475-7ec16996b2c9",
   "metadata": {},
   "source": [
    "NUMPY (np.arange, reshape, random)"
   ]
  },
  {
   "cell_type": "code",
   "execution_count": 15,
   "id": "70d57bc2-d394-4bbd-8722-665685c27168",
   "metadata": {},
   "outputs": [],
   "source": [
    "#np.arange\n",
    "A = np.arange(20,100,3) #start, end, jump\n",
    "                        #same as \"for i in range(20:10:3)"
   ]
  },
  {
   "cell_type": "code",
   "execution_count": 16,
   "id": "13cffafa-a107-41d4-beeb-8f8df028cfbf",
   "metadata": {},
   "outputs": [
    {
     "name": "stdout",
     "output_type": "stream",
     "text": [
      "[20 23 26 29 32 35 38 41 44 47 50 53 56 59 62 65 68 71 74 77 80 83 86 89\n",
      " 92 95 98]\n"
     ]
    }
   ],
   "source": [
    "print(A)"
   ]
  },
  {
   "cell_type": "code",
   "execution_count": 17,
   "id": "2195ed18-168e-45d9-be56-2d48b1d211ef",
   "metadata": {},
   "outputs": [
    {
     "name": "stdout",
     "output_type": "stream",
     "text": [
      "[0, 1, 2, 3, 4, 5, 6, 7, 8, 9]\n"
     ]
    }
   ],
   "source": [
    "print(list(range(10)))"
   ]
  },
  {
   "cell_type": "code",
   "execution_count": 18,
   "id": "d7acf620-047c-4cca-8e31-034fa1f90b25",
   "metadata": {},
   "outputs": [
    {
     "name": "stdout",
     "output_type": "stream",
     "text": [
      "[5 8 0 7 1 2 6 4 3 9]\n"
     ]
    }
   ],
   "source": [
    "#np.random\n",
    "A = np.random.permutation(np.arange(10))\n",
    "print (A)"
   ]
  },
  {
   "cell_type": "code",
   "execution_count": 19,
   "id": "8f22bfc0-d22a-4144-ad8e-939865781619",
   "metadata": {},
   "outputs": [],
   "source": [
    "#np.reshape\n",
    "A = np.arange(100).reshape(4,25)"
   ]
  },
  {
   "cell_type": "code",
   "execution_count": 20,
   "id": "8a633bb3-b0a6-4b23-b427-630adfcfd282",
   "metadata": {},
   "outputs": [
    {
     "data": {
      "text/plain": [
       "(4, 25)"
      ]
     },
     "execution_count": 20,
     "metadata": {},
     "output_type": "execute_result"
    }
   ],
   "source": [
    "A.shape"
   ]
  },
  {
   "cell_type": "markdown",
   "id": "7c843f2c-0981-45bd-891d-91c4cfc42ea5",
   "metadata": {},
   "source": [
    " Numpy(Slicing)"
   ]
  },
  {
   "cell_type": "code",
   "execution_count": 21,
   "id": "62ee12f7-c815-41ea-9782-40abdf52f7da",
   "metadata": {},
   "outputs": [],
   "source": [
    "A = np.arange(100)"
   ]
  },
  {
   "cell_type": "code",
   "execution_count": 22,
   "id": "a1958386-407c-47a9-bb14-731e2217d083",
   "metadata": {},
   "outputs": [
    {
     "name": "stdout",
     "output_type": "stream",
     "text": [
      "[3 4 5 6 7 8 9]\n"
     ]
    }
   ],
   "source": [
    "b = A[3:10]\n",
    "print(b)"
   ]
  },
  {
   "cell_type": "code",
   "execution_count": 23,
   "id": "5df6db12-581e-45ad-b494-b79e4ba408b3",
   "metadata": {},
   "outputs": [],
   "source": [
    "b[0] = -1200"
   ]
  },
  {
   "cell_type": "code",
   "execution_count": 24,
   "id": "43761ac9-66c0-4be5-ac2c-54cadaa15006",
   "metadata": {},
   "outputs": [
    {
     "data": {
      "text/plain": [
       "array([-1200,     4,     5,     6,     7,     8,     9])"
      ]
     },
     "execution_count": 24,
     "metadata": {},
     "output_type": "execute_result"
    }
   ],
   "source": [
    "b"
   ]
  },
  {
   "cell_type": "code",
   "execution_count": 25,
   "id": "7d5d7c37-fe52-4351-8179-fb4cf35b7fa6",
   "metadata": {},
   "outputs": [
    {
     "data": {
      "text/plain": [
       "array([    0,     1,     2, -1200,     4,     5,     6,     7,     8,\n",
       "           9,    10,    11,    12,    13,    14,    15,    16,    17,\n",
       "          18,    19,    20,    21,    22,    23,    24,    25,    26,\n",
       "          27,    28,    29,    30,    31,    32,    33,    34,    35,\n",
       "          36,    37,    38,    39,    40,    41,    42,    43,    44,\n",
       "          45,    46,    47,    48,    49,    50,    51,    52,    53,\n",
       "          54,    55,    56,    57,    58,    59,    60,    61,    62,\n",
       "          63,    64,    65,    66,    67,    68,    69,    70,    71,\n",
       "          72,    73,    74,    75,    76,    77,    78,    79,    80,\n",
       "          81,    82,    83,    84,    85,    86,    87,    88,    89,\n",
       "          90,    91,    92,    93,    94,    95,    96,    97,    98,\n",
       "          99])"
      ]
     },
     "execution_count": 25,
     "metadata": {},
     "output_type": "execute_result"
    }
   ],
   "source": [
    "A #ikut berubah"
   ]
  },
  {
   "cell_type": "code",
   "execution_count": 26,
   "id": "8b276656-a73a-4719-9967-114f39ea54b6",
   "metadata": {},
   "outputs": [],
   "source": [
    "#untuk mencegah dari perubahan\n",
    "b = A[3:10].copy()"
   ]
  },
  {
   "cell_type": "code",
   "execution_count": 27,
   "id": "9f0bd83c-ccd8-4bfa-b78f-a33c56d7e65d",
   "metadata": {},
   "outputs": [
    {
     "data": {
      "text/plain": [
       "array([ 0,  5, 10, 15, 20, 25, 30, 35, 40, 45, 50, 55, 60, 65, 70, 75, 80,\n",
       "       85, 90, 95])"
      ]
     },
     "execution_count": 27,
     "metadata": {},
     "output_type": "execute_result"
    }
   ],
   "source": [
    "A[::5]"
   ]
  },
  {
   "cell_type": "code",
   "execution_count": 28,
   "id": "fe9e4f6f-e047-4aef-858b-dab0438b8a77",
   "metadata": {},
   "outputs": [
    {
     "data": {
      "text/plain": [
       "array([99, 94, 89, 84, 79, 74, 69, 64, 59, 54, 49, 44, 39, 34, 29, 24, 19,\n",
       "       14,  9,  4])"
      ]
     },
     "execution_count": 28,
     "metadata": {},
     "output_type": "execute_result"
    }
   ],
   "source": [
    "A[::-5]"
   ]
  },
  {
   "cell_type": "code",
   "execution_count": 29,
   "id": "eae4103e-bde0-41ca-8e6c-4f5b48d5f518",
   "metadata": {},
   "outputs": [
    {
     "data": {
      "text/plain": [
       "array([   99,    98,    97,    96,    95,    94,    93,    92,    91,\n",
       "          90,    89,    88,    87,    86,    85,    84,    83,    82,\n",
       "          81,    80,    79,    78,    77,    76,    75,    74,    73,\n",
       "          72,    71,    70,    69,    68,    67,    66,    65,    64,\n",
       "          63,    62,    61,    60,    59,    58,    57,    56,    55,\n",
       "          54,    53,    52,    51,    50,    49,    48,    47,    46,\n",
       "          45,    44,    43,    42,    41,    40,    39,    38,    37,\n",
       "          36,    35,    34,    33,    32,    31,    30,    29,    28,\n",
       "          27,    26,    25,    24,    23,    22,    21,    20,    19,\n",
       "          18,    17,    16,    15,    14,    13,    12,    11,    10,\n",
       "           9,     8,     7,     6,     5,     4, -1200,     2,     1,\n",
       "           0])"
      ]
     },
     "execution_count": 29,
     "metadata": {},
     "output_type": "execute_result"
    }
   ],
   "source": [
    "A[::-1]"
   ]
  },
  {
   "cell_type": "code",
   "execution_count": 30,
   "id": "32a697d9-6789-4909-8f7a-62d9f03d0af5",
   "metadata": {},
   "outputs": [],
   "source": [
    "#Location of (-1200)\n",
    "idx = np.argwhere(A==-1200)[0][0]"
   ]
  },
  {
   "cell_type": "code",
   "execution_count": 31,
   "id": "82f9a76c-14f2-4d4f-a749-5f8e0c6ebce1",
   "metadata": {},
   "outputs": [
    {
     "data": {
      "text/plain": [
       "np.int64(3)"
      ]
     },
     "execution_count": 31,
     "metadata": {},
     "output_type": "execute_result"
    }
   ],
   "source": [
    "idx"
   ]
  },
  {
   "cell_type": "code",
   "execution_count": 32,
   "id": "abb7d8e6-1e2e-4659-bb0b-c96c042fa799",
   "metadata": {},
   "outputs": [],
   "source": [
    "#change value \n",
    "A[idx] = 3"
   ]
  },
  {
   "cell_type": "code",
   "execution_count": 33,
   "id": "5d5c3683-2dab-4585-b2bc-39bb4499feec",
   "metadata": {},
   "outputs": [
    {
     "data": {
      "text/plain": [
       "array([ 0,  1,  2,  3,  4,  5,  6,  7,  8,  9, 10, 11, 12, 13, 14, 15, 16,\n",
       "       17, 18, 19, 20, 21, 22, 23, 24, 25, 26, 27, 28, 29, 30, 31, 32, 33,\n",
       "       34, 35, 36, 37, 38, 39, 40, 41, 42, 43, 44, 45, 46, 47, 48, 49, 50,\n",
       "       51, 52, 53, 54, 55, 56, 57, 58, 59, 60, 61, 62, 63, 64, 65, 66, 67,\n",
       "       68, 69, 70, 71, 72, 73, 74, 75, 76, 77, 78, 79, 80, 81, 82, 83, 84,\n",
       "       85, 86, 87, 88, 89, 90, 91, 92, 93, 94, 95, 96, 97, 98, 99])"
      ]
     },
     "execution_count": 33,
     "metadata": {},
     "output_type": "execute_result"
    }
   ],
   "source": [
    "A"
   ]
  },
  {
   "cell_type": "code",
   "execution_count": 34,
   "id": "50d28e9f-5f4a-4e0f-bd27-180a5214f8cc",
   "metadata": {},
   "outputs": [],
   "source": [
    "A = np.round(10*np.random.rand(5,4)) #  rows 5 and columns 4"
   ]
  },
  {
   "cell_type": "code",
   "execution_count": 35,
   "id": "662bfd35-867f-4799-9c02-f40ffbb1ecec",
   "metadata": {},
   "outputs": [
    {
     "data": {
      "text/plain": [
       "array([[ 4.,  3.,  8.,  3.],\n",
       "       [ 6.,  5.,  2.,  5.],\n",
       "       [ 2.,  7.,  3.,  3.],\n",
       "       [ 9., 10.,  7.,  4.],\n",
       "       [ 0.,  4.,  1.,  0.]])"
      ]
     },
     "execution_count": 35,
     "metadata": {},
     "output_type": "execute_result"
    }
   ],
   "source": [
    "A"
   ]
  },
  {
   "cell_type": "code",
   "execution_count": 36,
   "id": "217c8e5b-3642-41b5-b9fe-d80f903a5627",
   "metadata": {},
   "outputs": [
    {
     "data": {
      "text/plain": [
       "np.float64(2.0)"
      ]
     },
     "execution_count": 36,
     "metadata": {},
     "output_type": "execute_result"
    }
   ],
   "source": [
    "A[1,2] # rows 2 and column 3"
   ]
  },
  {
   "cell_type": "code",
   "execution_count": 37,
   "id": "7ddda84a-594a-4b0c-9c50-cd7623832da9",
   "metadata": {},
   "outputs": [
    {
     "data": {
      "text/plain": [
       "array([6., 5., 2., 5.])"
      ]
     },
     "execution_count": 37,
     "metadata": {},
     "output_type": "execute_result"
    }
   ],
   "source": [
    "A[1,:]"
   ]
  },
  {
   "cell_type": "code",
   "execution_count": 38,
   "id": "19f5dcb7-7124-4f16-8515-1522d8ad534a",
   "metadata": {},
   "outputs": [
    {
     "data": {
      "text/plain": [
       "array([[2., 5.],\n",
       "       [3., 3.]])"
      ]
     },
     "execution_count": 38,
     "metadata": {},
     "output_type": "execute_result"
    }
   ],
   "source": [
    "A[1:3,2:4] #rows 2 -3 ambil column 3-4"
   ]
  },
  {
   "cell_type": "code",
   "execution_count": 39,
   "id": "e5499f9d-2938-4491-b0fb-69987394b73f",
   "metadata": {},
   "outputs": [],
   "source": [
    "#Linier algabra\n",
    "import numpy.linalg as la"
   ]
  },
  {
   "cell_type": "code",
   "execution_count": 40,
   "id": "4adba781-1f17-4902-8d75-d27d4611a7e7",
   "metadata": {},
   "outputs": [
    {
     "data": {
      "text/plain": [
       "array([[-0.44518502, -0.07061571,  1.3167901 ],\n",
       "       [ 0.09473789,  1.10446966, -0.97230238],\n",
       "       [ 1.17553882, -0.17290332, -0.38252877]])"
      ]
     },
     "execution_count": 40,
     "metadata": {},
     "output_type": "execute_result"
    }
   ],
   "source": [
    "la.inv(np.random.rand(3,3))"
   ]
  },
  {
   "cell_type": "code",
   "execution_count": 41,
   "id": "8bff8e97-0b63-4eb8-b4b4-689305ce5b48",
   "metadata": {},
   "outputs": [
    {
     "data": {
      "text/plain": [
       "array([[ 4.,  3.,  8.,  3.],\n",
       "       [ 6.,  5.,  2.,  5.],\n",
       "       [ 2.,  7.,  3.,  3.],\n",
       "       [ 9., 10.,  7.,  4.],\n",
       "       [ 0.,  4.,  1.,  0.]])"
      ]
     },
     "execution_count": 41,
     "metadata": {},
     "output_type": "execute_result"
    }
   ],
   "source": [
    "A"
   ]
  },
  {
   "cell_type": "code",
   "execution_count": 42,
   "id": "08b4ad4e-d6e6-425b-be47-6e562a5c8dc6",
   "metadata": {},
   "outputs": [],
   "source": [
    "#sort\n",
    "A.sort(axis=0) #sort atau mengurutkan secara rows"
   ]
  },
  {
   "cell_type": "code",
   "execution_count": 43,
   "id": "059d8d21-fef7-4a43-af18-d136ad5e9661",
   "metadata": {},
   "outputs": [
    {
     "data": {
      "text/plain": [
       "array([[ 0.,  3.,  1.,  0.],\n",
       "       [ 2.,  4.,  2.,  3.],\n",
       "       [ 4.,  5.,  3.,  3.],\n",
       "       [ 6.,  7.,  7.,  4.],\n",
       "       [ 9., 10.,  8.,  5.]])"
      ]
     },
     "execution_count": 43,
     "metadata": {},
     "output_type": "execute_result"
    }
   ],
   "source": [
    "A"
   ]
  },
  {
   "cell_type": "code",
   "execution_count": 44,
   "id": "dc338682-7a0e-4cff-be55-7ed499504b94",
   "metadata": {},
   "outputs": [],
   "source": [
    "A.sort(axis=1) #sort atau mengurutkan secara columns"
   ]
  },
  {
   "cell_type": "code",
   "execution_count": 45,
   "id": "5a955215-7ef1-41b2-bc0f-1e6b80ab135a",
   "metadata": {},
   "outputs": [
    {
     "data": {
      "text/plain": [
       "array([[ 0.,  0.,  1.,  3.],\n",
       "       [ 2.,  2.,  3.,  4.],\n",
       "       [ 3.,  3.,  4.,  5.],\n",
       "       [ 4.,  6.,  7.,  7.],\n",
       "       [ 5.,  8.,  9., 10.]])"
      ]
     },
     "execution_count": 45,
     "metadata": {},
     "output_type": "execute_result"
    }
   ],
   "source": [
    "A"
   ]
  },
  {
   "cell_type": "markdown",
   "id": "cdac5039-132f-4202-bfcc-a5d83da44e27",
   "metadata": {},
   "source": [
    "Numpy (More Indexing)"
   ]
  },
  {
   "cell_type": "code",
   "execution_count": 46,
   "id": "a97495f1-ad7e-4ae9-a4df-cf3b1b867e12",
   "metadata": {},
   "outputs": [],
   "source": [
    "import numpy as np\n",
    "A = np.arange(100)"
   ]
  },
  {
   "cell_type": "code",
   "execution_count": 47,
   "id": "1f6d5ca2-31d3-45e5-ab0e-ce87ee37a3d9",
   "metadata": {},
   "outputs": [],
   "source": [
    "B= A[[3,45,6]] #act as copy so if B change A doesnt change "
   ]
  },
  {
   "cell_type": "code",
   "execution_count": 48,
   "id": "b91f8e3b-1201-45c9-9693-42bb7f893802",
   "metadata": {},
   "outputs": [
    {
     "data": {
      "text/plain": [
       "array([ 3, 45,  6])"
      ]
     },
     "execution_count": 48,
     "metadata": {},
     "output_type": "execute_result"
    }
   ],
   "source": [
    "B"
   ]
  },
  {
   "cell_type": "code",
   "execution_count": 49,
   "id": "36819e1b-524a-4ce0-9c87-40a33cb1c3fb",
   "metadata": {},
   "outputs": [],
   "source": [
    "B[0] = -4"
   ]
  },
  {
   "cell_type": "code",
   "execution_count": 50,
   "id": "a49bbbd3-7d08-467c-8083-4ed3b43843e4",
   "metadata": {},
   "outputs": [
    {
     "data": {
      "text/plain": [
       "array([-4, 45,  6])"
      ]
     },
     "execution_count": 50,
     "metadata": {},
     "output_type": "execute_result"
    }
   ],
   "source": [
    "B #Change"
   ]
  },
  {
   "cell_type": "code",
   "execution_count": 51,
   "id": "dcf27160-c158-4048-aab6-6064b3056e18",
   "metadata": {},
   "outputs": [
    {
     "data": {
      "text/plain": [
       "array([ 0,  1,  2,  3,  4,  5,  6,  7,  8,  9, 10, 11, 12, 13, 14, 15, 16,\n",
       "       17, 18, 19, 20, 21, 22, 23, 24, 25, 26, 27, 28, 29, 30, 31, 32, 33,\n",
       "       34, 35, 36, 37, 38, 39, 40, 41, 42, 43, 44, 45, 46, 47, 48, 49, 50,\n",
       "       51, 52, 53, 54, 55, 56, 57, 58, 59, 60, 61, 62, 63, 64, 65, 66, 67,\n",
       "       68, 69, 70, 71, 72, 73, 74, 75, 76, 77, 78, 79, 80, 81, 82, 83, 84,\n",
       "       85, 86, 87, 88, 89, 90, 91, 92, 93, 94, 95, 96, 97, 98, 99])"
      ]
     },
     "execution_count": 51,
     "metadata": {},
     "output_type": "execute_result"
    }
   ],
   "source": [
    "A # Doesnt Change"
   ]
  },
  {
   "cell_type": "code",
   "execution_count": 52,
   "id": "4048905b-f890-4ed4-9c39-45ce8d1da9c8",
   "metadata": {},
   "outputs": [],
   "source": [
    "B=A[A<40]"
   ]
  },
  {
   "cell_type": "code",
   "execution_count": 53,
   "id": "5cd244e8-56f6-4465-862d-9340d7027a25",
   "metadata": {},
   "outputs": [
    {
     "data": {
      "text/plain": [
       "array([ 0,  1,  2,  3,  4,  5,  6,  7,  8,  9, 10, 11, 12, 13, 14, 15, 16,\n",
       "       17, 18, 19, 20, 21, 22, 23, 24, 25, 26, 27, 28, 29, 30, 31, 32, 33,\n",
       "       34, 35, 36, 37, 38, 39])"
      ]
     },
     "execution_count": 53,
     "metadata": {},
     "output_type": "execute_result"
    }
   ],
   "source": [
    "B"
   ]
  },
  {
   "cell_type": "code",
   "execution_count": 54,
   "id": "54377a61-2a35-4463-881c-dd973003b4a9",
   "metadata": {},
   "outputs": [],
   "source": [
    "B = A[(A<40) & (A > 30)]"
   ]
  },
  {
   "cell_type": "code",
   "execution_count": 55,
   "id": "47930dda-b60b-4e56-af6f-3cf38ed0ec0d",
   "metadata": {},
   "outputs": [
    {
     "data": {
      "text/plain": [
       "array([31, 32, 33, 34, 35, 36, 37, 38, 39])"
      ]
     },
     "execution_count": 55,
     "metadata": {},
     "output_type": "execute_result"
    }
   ],
   "source": [
    "B"
   ]
  },
  {
   "cell_type": "code",
   "execution_count": 56,
   "id": "eda60bf6-ef8d-4791-8cc0-4edeeaf8eabe",
   "metadata": {},
   "outputs": [],
   "source": [
    "# (&, |, ~) for array , (and, or, not) for single object"
   ]
  },
  {
   "cell_type": "markdown",
   "id": "edeb2022-9632-4ecb-ba47-23b4dfb535e5",
   "metadata": {},
   "source": [
    "Numpy (Broadcasting)\n",
    "#A + 5"
   ]
  },
  {
   "cell_type": "markdown",
   "id": "5762f112-ea5e-4967-a62a-9433fca80c8b",
   "metadata": {},
   "source": [
    "Numpy (hstack, vstack,sort)"
   ]
  },
  {
   "cell_type": "code",
   "execution_count": 57,
   "id": "5517be1a-ec9f-49db-87c1-be5bc26e8054",
   "metadata": {},
   "outputs": [],
   "source": [
    "A = np.round(10*np.random.rand(2,3))"
   ]
  },
  {
   "cell_type": "code",
   "execution_count": 58,
   "id": "dd7bdb78-94fc-4dc6-9f90-f8bc8ef23fb9",
   "metadata": {},
   "outputs": [
    {
     "data": {
      "text/plain": [
       "array([[5., 6., 0.],\n",
       "       [6., 6., 8.]])"
      ]
     },
     "execution_count": 58,
     "metadata": {},
     "output_type": "execute_result"
    }
   ],
   "source": [
    "A"
   ]
  },
  {
   "cell_type": "code",
   "execution_count": 59,
   "id": "1016fd38-9f57-45c2-8895-9285d7ac462f",
   "metadata": {},
   "outputs": [
    {
     "data": {
      "text/plain": [
       "array([[ 8.,  9.,  3.],\n",
       "       [ 9.,  9., 11.]])"
      ]
     },
     "execution_count": 59,
     "metadata": {},
     "output_type": "execute_result"
    }
   ],
   "source": [
    "A + 3"
   ]
  },
  {
   "cell_type": "code",
   "execution_count": 60,
   "id": "9c9fb551-2fdc-4518-aad2-6a36a67c1511",
   "metadata": {},
   "outputs": [
    {
     "data": {
      "text/plain": [
       "array([[5., 6., 0.],\n",
       "       [7., 7., 9.]])"
      ]
     },
     "execution_count": 60,
     "metadata": {},
     "output_type": "execute_result"
    }
   ],
   "source": [
    "A + np.arange(2).reshape(2,1)"
   ]
  },
  {
   "cell_type": "code",
   "execution_count": 61,
   "id": "fea1c8d7-336c-4f4c-a2f3-d12e64bc331e",
   "metadata": {},
   "outputs": [],
   "source": [
    "B = np.round(10*np.random.rand(2,2))"
   ]
  },
  {
   "cell_type": "code",
   "execution_count": 62,
   "id": "f6d7970d-c7c1-471e-8ccc-f81e1cc59235",
   "metadata": {},
   "outputs": [
    {
     "data": {
      "text/plain": [
       "array([[5., 5.],\n",
       "       [1., 4.]])"
      ]
     },
     "execution_count": 62,
     "metadata": {},
     "output_type": "execute_result"
    }
   ],
   "source": [
    "B"
   ]
  },
  {
   "cell_type": "code",
   "execution_count": 65,
   "id": "add6fa56-ff68-4818-bde4-97949cf88561",
   "metadata": {},
   "outputs": [],
   "source": [
    "C = np.hstack ((A,B)) # menggabungkan secara horisontal"
   ]
  },
  {
   "cell_type": "code",
   "execution_count": 66,
   "id": "da7f414d-47cb-4e66-8cbd-9f33228972e7",
   "metadata": {},
   "outputs": [
    {
     "data": {
      "text/plain": [
       "array([[5., 6., 0., 5., 5.],\n",
       "       [6., 6., 8., 1., 4.]])"
      ]
     },
     "execution_count": 66,
     "metadata": {},
     "output_type": "execute_result"
    }
   ],
   "source": [
    "C"
   ]
  },
  {
   "cell_type": "code",
   "execution_count": 67,
   "id": "7871f18f-cb3c-494e-b74a-f81a1bbac46a",
   "metadata": {},
   "outputs": [],
   "source": [
    "A = np.random.permutation(np.arange(10))"
   ]
  },
  {
   "cell_type": "code",
   "execution_count": 68,
   "id": "914096c1-b8eb-45b2-91ea-4f4342a22e8a",
   "metadata": {},
   "outputs": [
    {
     "data": {
      "text/plain": [
       "array([0, 2, 3, 4, 1, 8, 9, 5, 6, 7])"
      ]
     },
     "execution_count": 68,
     "metadata": {},
     "output_type": "execute_result"
    }
   ],
   "source": [
    "A"
   ]
  },
  {
   "cell_type": "code",
   "execution_count": 69,
   "id": "c9f38885-0721-4e92-9447-c08b4bc900e3",
   "metadata": {},
   "outputs": [],
   "source": [
    "A.sort() #sort atau mengurutkan\n",
    "#A = A[::-1] sort in descending\n",
    "#A = A[::0] sort in ascending"
   ]
  },
  {
   "cell_type": "code",
   "execution_count": 70,
   "id": "9a7c8982-47e8-4b0a-9c44-f3497f437f91",
   "metadata": {},
   "outputs": [
    {
     "data": {
      "text/plain": [
       "array([0, 1, 2, 3, 4, 5, 6, 7, 8, 9])"
      ]
     },
     "execution_count": 70,
     "metadata": {},
     "output_type": "execute_result"
    }
   ],
   "source": [
    "A"
   ]
  },
  {
   "cell_type": "code",
   "execution_count": null,
   "id": "3a246f63-f19a-4ac6-bd16-fd5a84441e86",
   "metadata": {},
   "outputs": [],
   "source": []
  }
 ],
 "metadata": {
  "kernelspec": {
   "display_name": "Python 3 (ipykernel)",
   "language": "python",
   "name": "python3"
  },
  "language_info": {
   "codemirror_mode": {
    "name": "ipython",
    "version": 3
   },
   "file_extension": ".py",
   "mimetype": "text/x-python",
   "name": "python",
   "nbconvert_exporter": "python",
   "pygments_lexer": "ipython3",
   "version": "3.13.5"
  }
 },
 "nbformat": 4,
 "nbformat_minor": 5
}
