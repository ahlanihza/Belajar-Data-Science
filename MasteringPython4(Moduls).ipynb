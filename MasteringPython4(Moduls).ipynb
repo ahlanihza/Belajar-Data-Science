{
 "cells": [
  {
   "cell_type": "code",
   "execution_count": 1,
   "id": "fff3f92e-9bd7-426d-95a7-944255181d0b",
   "metadata": {},
   "outputs": [],
   "source": [
    "import sys\n",
    "sys.path.append('C:/Users/PERSONAL/Documents/Latihan Moduls')"
   ]
  },
  {
   "cell_type": "code",
   "execution_count": 5,
   "id": "6c50de39-d431-4377-9d20-7b6fa6427635",
   "metadata": {},
   "outputs": [],
   "source": [
    "import my_universal_functions as myfs\n",
    "#from  my_universal_functions import addallnumbers"
   ]
  },
  {
   "cell_type": "code",
   "execution_count": 6,
   "id": "acb67e6a-1455-499a-8694-eccc5951a505",
   "metadata": {},
   "outputs": [
    {
     "name": "stdout",
     "output_type": "stream",
     "text": [
      "37\n"
     ]
    }
   ],
   "source": [
    "d = addallnumbers(4,3,6,7,8,9)\n",
    "print (d)"
   ]
  },
  {
   "cell_type": "code",
   "execution_count": 7,
   "id": "627acfd9-cf2d-4727-88ae-9ab46bcd9aca",
   "metadata": {},
   "outputs": [
    {
     "data": {
      "text/plain": [
       "'Given a list of numbers i.e. [1,2,4,-5,7,9,3,2], make another list\\nthat result contains all items in sorted order from min to max i.e. your result \\nwill be anothe list ike [-5,1,2,2,3,4,7,9]\\n'"
      ]
     },
     "execution_count": 7,
     "metadata": {},
     "output_type": "execute_result"
    }
   ],
   "source": [
    "\"\"\"Given a list of numbers i.e. [1,2,4,-5,7,9,3,2], make another list\n",
    "that result contains all items in sorted order from min to max i.e. your result \n",
    "will be anothe list ike [-5,1,2,2,3,4,7,9]\n",
    "\"\"\""
   ]
  },
  {
   "cell_type": "code",
   "execution_count": 15,
   "id": "3aa2456a-9f6f-487a-b238-9cdf32419125",
   "metadata": {},
   "outputs": [],
   "source": [
    "def findmin (L, startindex):\n",
    "    m = L[startindex]\n",
    "    idx = startindex\n",
    "    for i in range (startindex,len(L)):\n",
    "        x = L[i]\n",
    "        if x < m :\n",
    "            m = x\n",
    "            idx = i\n",
    "        else :\n",
    "            pass\n",
    "        i += 1\n",
    "    return m, idx\n",
    "            "
   ]
  },
  {
   "cell_type": "code",
   "execution_count": 17,
   "id": "908beac0-f9bc-4a09-8862-437eaf2fadfb",
   "metadata": {},
   "outputs": [
    {
     "name": "stdout",
     "output_type": "stream",
     "text": [
      "0 3\n"
     ]
    }
   ],
   "source": [
    "a, b = findmin([2, 3, 4, 0, 9],0)\n",
    "print (a,b)"
   ]
  },
  {
   "cell_type": "code",
   "execution_count": 12,
   "id": "064d69d2-55c3-4657-b75a-644c43160a67",
   "metadata": {},
   "outputs": [],
   "source": [
    "def swapvalues(L, idx1, idx2) :\n",
    "    tmp = L[idx1]\n",
    "    L[idx1] = L[idx2]\n",
    "    L[idx2] = tmp\n",
    "    return L"
   ]
  },
  {
   "cell_type": "code",
   "execution_count": 14,
   "id": "8ee3acb4-0753-43d2-b906-f6791e18f7eb",
   "metadata": {},
   "outputs": [
    {
     "name": "stdout",
     "output_type": "stream",
     "text": [
      "[2, 8, 3, 1]\n"
     ]
    }
   ],
   "source": [
    "L = [2,3,8,1]\n",
    "L2 = swapvalues(L, 1, 2)\n",
    "print (L2)"
   ]
  },
  {
   "cell_type": "code",
   "execution_count": 19,
   "id": "f0202c4a-f346-479a-b3eb-986851fc6b11",
   "metadata": {},
   "outputs": [],
   "source": [
    "from my_universal_functions import checkifnotnumber\n",
    "def sortlist (L) :\n",
    "    if not (checkifnotnumber(L)) :\n",
    "        print (\"error : list does not contain numeric values\")\n",
    "        return\n",
    "    else :\n",
    "        c = 0\n",
    "        for x in L :\n",
    "            m, idx = findmin (L, c)\n",
    "            L = swapvalues( L, c, idx)\n",
    "            c += 1\n",
    "    return L"
   ]
  },
  {
   "cell_type": "code",
   "execution_count": 22,
   "id": "5e138636-39f8-4441-902c-16348ede831b",
   "metadata": {},
   "outputs": [
    {
     "name": "stdout",
     "output_type": "stream",
     "text": [
      "[1, 3, 3, 5, 5, 6, 9]\n",
      "error : list does not contain numeric values\n"
     ]
    }
   ],
   "source": [
    "d = sortlist ([6,3,9,5,1,3,5])\n",
    "print(d)\n",
    "e = sortlist ([2,1,4,9,8,\"a\",\"f\",\"g\"])"
   ]
  },
  {
   "cell_type": "code",
   "execution_count": null,
   "id": "a9a9f590-5085-462f-a98c-db06cfb7eac6",
   "metadata": {},
   "outputs": [],
   "source": []
  }
 ],
 "metadata": {
  "kernelspec": {
   "display_name": "Python 3 (ipykernel)",
   "language": "python",
   "name": "python3"
  },
  "language_info": {
   "codemirror_mode": {
    "name": "ipython",
    "version": 3
   },
   "file_extension": ".py",
   "mimetype": "text/x-python",
   "name": "python",
   "nbconvert_exporter": "python",
   "pygments_lexer": "ipython3",
   "version": "3.13.5"
  }
 },
 "nbformat": 4,
 "nbformat_minor": 5
}
